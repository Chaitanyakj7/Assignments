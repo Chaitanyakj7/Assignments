{
 "cells": [
  {
   "cell_type": "markdown",
   "id": "cd93ebd4-4379-4fde-a8c0-8ac720e841ab",
   "metadata": {},
   "source": [
    "Answer 1)Abstraction is the concept in which irrelevant are hide \n",
    "from user and relevant datails are shown to users."
   ]
  },
  {
   "cell_type": "code",
   "execution_count": 1,
   "id": "96db7dec-ec18-4a5f-a8ce-da0bb489f9c8",
   "metadata": {},
   "outputs": [
    {
     "name": "stdout",
     "output_type": "stream",
     "text": [
      "Student details of data science batch\n",
      "Assignments of DS batch students\n",
      "\n",
      "\n",
      "Marks of WD batch students\n",
      "Student details of web dev batch\n"
     ]
    }
   ],
   "source": [
    "import abc\n",
    "\n",
    "class pwskills:\n",
    "    \n",
    "    @abc.abstractmethod \n",
    "    def stud_details(self):\n",
    "        pass\n",
    "    \n",
    "    @abc.abstractmethod \n",
    "    def stud_ass(self):\n",
    "        pass\n",
    "    \n",
    "    @abc.abstractmethod \n",
    "    def stud_marks(self):\n",
    "        pass\n",
    "    \n",
    "class data_science_stud_details(pwskills):\n",
    "    \n",
    "    def stud_details(self):\n",
    "        print(\"Student details of data science batch\")\n",
    "    \n",
    "    def stud_ass(self):\n",
    "        print(\"Assignments of DS batch students\")\n",
    "        \n",
    "\n",
    "class web_dev(pwskills):\n",
    "    \n",
    "    def stud_marks(self):\n",
    "        print(\"Marks of WD batch students\")\n",
    "        \n",
    "    def stud_details(self):\n",
    "        print(\"Student details of web dev batch\")\n",
    "        \n",
    "ds = data_science_stud_details()\n",
    "ds.stud_details()\n",
    "ds.stud_ass()\n",
    "print(\"\\n\")\n",
    "\n",
    "wd = web_dev()\n",
    "wd.stud_marks()\n",
    "wd.stud_details()"
   ]
  },
  {
   "cell_type": "markdown",
   "id": "03e68f8d-6fac-48b2-954e-89a7477f2e2a",
   "metadata": {},
   "source": [
    "Answer 2) Abstraction is the method of hiding the unwanted \n",
    "information. Whereas encapsulation is a emthod to hide the\n",
    "data ina single entity or unit along with a method to \n",
    "protect information from outside"
   ]
  },
  {
   "cell_type": "code",
   "execution_count": 3,
   "id": "3a66ec6a-79b9-4002-ad9b-4a4cd11ffe43",
   "metadata": {},
   "outputs": [
    {
     "name": "stdout",
     "output_type": "stream",
     "text": [
      "Student details of data science batch\n",
      "Assignments of DS batch students\n",
      "\n",
      "\n",
      "Marks of WD batch students\n",
      "Student details of web dev batch\n",
      "\n",
      "\n",
      "2016\n",
      "2025\n",
      "tiago\n",
      "40\n",
      "0\n",
      "25\n"
     ]
    }
   ],
   "source": [
    "import abc\n",
    "\n",
    "class pwskills:\n",
    "    \n",
    "    @abc.abstractmethod \n",
    "    def stud_details(self):\n",
    "        pass\n",
    "    \n",
    "    @abc.abstractmethod \n",
    "    def stud_ass(self):\n",
    "        pass\n",
    "    \n",
    "    @abc.abstractmethod \n",
    "    def stud_marks(self):\n",
    "        pass\n",
    "    \n",
    "class data_science_stud_details(pwskills):\n",
    "    \n",
    "    def stud_details(self):\n",
    "        print(\"Student details of data science batch\")\n",
    "    \n",
    "    def stud_ass(self):\n",
    "        print(\"Assignments of DS batch students\")\n",
    "        \n",
    "\n",
    "class web_dev(pwskills):\n",
    "    \n",
    "    def stud_marks(self):\n",
    "        print(\"Marks of WD batch students\")\n",
    "        \n",
    "    def stud_details(self):\n",
    "        print(\"Student details of web dev batch\")\n",
    "        \n",
    "ds = data_science_stud_details()\n",
    "ds.stud_details()\n",
    "ds.stud_ass()\n",
    "print(\"\\n\")\n",
    "\n",
    "wd = web_dev()\n",
    "wd.stud_marks()\n",
    "wd.stud_details()\n",
    "\n",
    "print(\"\\n\")\n",
    "\n",
    "class car:\n",
    "    \n",
    "    def __init__(a, mfg_year, exp_year, make, model, speed):\n",
    "        a.__mfg_year = mfg_year\n",
    "        a.__exp_year = exp_year\n",
    "        a.__make = make\n",
    "        a.__model  = model\n",
    "        a.__speed = speed\n",
    "        \n",
    "    def set_speed(a, speed):\n",
    "        a.__speed = 0 if speed < 0 else speed\n",
    "        \n",
    "    def get_speed(a):\n",
    "        return a.__speed\n",
    "        \n",
    "\n",
    "car_obj = car(2016, 2025, \"tata\", \"tiago\", 40)\n",
    "\n",
    "print(car_obj._car__mfg_year)\n",
    "print(car_obj._car__exp_year)\n",
    "print(car_obj._car__model)\n",
    "\n",
    "print(car_obj.get_speed())\n",
    "\n",
    "car_obj.set_speed(-100)\n",
    "\n",
    "print(car_obj.get_speed())\n",
    "\n",
    "car_obj.set_speed(25)\n",
    "\n",
    "print(car_obj.get_speed())"
   ]
  },
  {
   "cell_type": "markdown",
   "id": "ca21a4d3-ce23-4744-a290-574d474ac130",
   "metadata": {},
   "source": [
    "Answer 3) ABCs(abstarct base classes) module provides the \n",
    "infrastructure for defining base classes in python\n",
    "\n",
    "For larger projects, it is impossible to remember the class\n",
    "details, and also the reusability of code can increase the\n",
    "bug. Therefore, it plays a crucial role in our projects"
   ]
  },
  {
   "cell_type": "markdown",
   "id": "bb2eac18-068e-43ba-97c4-1d39427210b6",
   "metadata": {},
   "source": [
    "Answer 4) We can achieve data abstraction through Abstract classes\n",
    "and interfaces. Through abstract classes, we can achieve \n",
    "partial or complete abstraction as abstract classes contain\n",
    "methods that have an implementation which can result in \n",
    "partial abstraction"
   ]
  },
  {
   "cell_type": "markdown",
   "id": "0a70b346-9ba2-4c39-8ffb-8750acde9f3c",
   "metadata": {},
   "source": [
    "Answer 5)Abstract classes cannot be instantiated, but they can be\n",
    "subclassed, the subclass usually provides implementations\n",
    "for all of the abstract methods in its parent class. \n",
    "However, if it does not, then the subclass must also be \n",
    "declared abstract."
   ]
  }
 ],
 "metadata": {
  "kernelspec": {
   "display_name": "Python 3 (ipykernel)",
   "language": "python",
   "name": "python3"
  },
  "language_info": {
   "codemirror_mode": {
    "name": "ipython",
    "version": 3
   },
   "file_extension": ".py",
   "mimetype": "text/x-python",
   "name": "python",
   "nbconvert_exporter": "python",
   "pygments_lexer": "ipython3",
   "version": "3.10.8"
  }
 },
 "nbformat": 4,
 "nbformat_minor": 5
}
