{
 "cells": [
  {
   "cell_type": "markdown",
   "id": "77b76e2d-7220-469e-9606-0ad0d3f09866",
   "metadata": {},
   "source": [
    "Q.1 Explain with an example when to use for loop and while loop."
   ]
  },
  {
   "cell_type": "markdown",
   "id": "a690b291-3efd-4b7c-8d8e-8a6608795809",
   "metadata": {},
   "source": [
    "Ans:- 1) The for loop is used when we already know number of iterations, i.e. we know that how many times \n",
    "        loop is going to be executed. And that is why we have to specify the ending point in the for loop\n",
    "        initialization.\n",
    "      2) But when we consider while loop, we don't iterate on a specific range because we don't know the \n",
    "        ending point of the loop. Instead, while executes certain statements until a condition is true. \n",
    "        As soon as condition turns to false then while loop will stop execution.\n",
    "      3) Here we can say that, for loop can be used when we know the number of times loop is going to \n",
    "        execute and while loop can be used  when we don't know loop's iteration number i.e. based on \n",
    "        certain condition.      "
   ]
  },
  {
   "cell_type": "code",
   "execution_count": 2,
   "id": "66265f8a-a0ac-44bf-99f2-0b36ff6f1841",
   "metadata": {},
   "outputs": [
    {
     "name": "stdin",
     "output_type": "stream",
     "text": [
      "Enter number:- \n",
      " 3\n"
     ]
    },
    {
     "name": "stdout",
     "output_type": "stream",
     "text": [
      "3 X 1 = 3\n",
      "3 X 2 = 6\n",
      "3 X 3 = 9\n",
      "3 X 4 = 12\n",
      "3 X 5 = 15\n",
      "3 X 6 = 18\n",
      "3 X 7 = 21\n",
      "3 X 8 = 24\n",
      "3 X 9 = 27\n",
      "3 X 10 = 30\n"
     ]
    }
   ],
   "source": [
    "#Finding table of a given number\n",
    "num = int(input(\"Enter number:- \\n\"))\n",
    "for i in range (1, 11) :\n",
    "    print(num ,\"X\", i, \"=\", num*i)\n",
    "    "
   ]
  },
  {
   "cell_type": "code",
   "execution_count": 7,
   "id": "9f16ea06-2fc1-4803-8b8f-325cf2c4f8a7",
   "metadata": {},
   "outputs": [
    {
     "name": "stdin",
     "output_type": "stream",
     "text": [
      "Enter number:- \n",
      " 2\n"
     ]
    },
    {
     "name": "stdout",
     "output_type": "stream",
     "text": [
      "Factorial =  2\n"
     ]
    }
   ],
   "source": [
    "#Factorial of a given number\n",
    "num = int(input(\"Enter number:- \\n\"))\n",
    "facto = 1\n",
    "if (num == 0 or num == 1):\n",
    "    facto = 1\n",
    "while num > 1:\n",
    "    facto = num * facto\n",
    "    num = num - 1\n",
    "print(\"Factorial = \", facto)"
   ]
  },
  {
   "cell_type": "markdown",
   "id": "09513de9-829e-4113-ae77-c96d6dedfc26",
   "metadata": {},
   "source": [
    "Q.2 Write a python program to print the sum and product of the first 10 natural numbers using for and while \n",
    "    loop."
   ]
  },
  {
   "cell_type": "code",
   "execution_count": null,
   "id": "241db254-a77a-42ef-bc52-4981dd0e2965",
   "metadata": {},
   "outputs": [
    {
     "name": "stdout",
     "output_type": "stream",
     "text": [
      "Sum using for loop = \n",
      " 55\n",
      "Product using for loop = \n",
      " 3628800\n"
     ]
    }
   ],
   "source": [
    "# Using for loop\n",
    "sum1 = 0\n",
    "product = 1\n",
    "for i in range (1, 11):\n",
    "    sum1 = sum1 + i\n",
    "    product = product * i\n",
    "print(\"Sum using for loop = \\n\", sum1)\n",
    "print(\"Product using for loop = \\n\", product)"
   ]
  },
  {
   "cell_type": "code",
   "execution_count": null,
   "id": "6e4d1ab4-c4f1-4629-b990-3db31d1fe594",
   "metadata": {},
   "outputs": [],
   "source": [
    "# Using while loop\n",
    "sum2 = 0\n",
    "product2 = 1\n",
    "count = 1\n",
    "while (count <= 10):\n",
    "    sum2 = sum2 + count\n",
    "    product2 = product2 * count\n",
    "    count = count + 1\n",
    "print(\"Sum using while loop:- \\n\", sum2)\n",
    "print(\"Product using while loop:- \\n\", product2)"
   ]
  },
  {
   "cell_type": "markdown",
   "id": "a8801ec4-39ee-4db7-943e-524cb5b60879",
   "metadata": {},
   "source": [
    "Q.3 Create a python program to compute the electricity bill for a household.\n",
    "    The per-unit charges in rupees are as follows: For the first 100 units, the user will be charged Rs. 4.5 per unit, for the next 100 units, the user will be charged Rs. 6 per unit, and for the next 100 units, the user will be charged Rs. 10 per unit. After 300 units and above the user will eb charged Rs. 20 per unit.\n",
    "    \n",
    "You are required to take the units of electricity consumed in a month from the user as input.\n",
    "\n",
    "Your program must pass this test case:When unit of electricity consumed by the user in a month is 310, the total electricity bill should be 2250."
   ]
  },
  {
   "cell_type": "code",
   "execution_count": null,
   "id": "c580f2b3-5b8c-41c3-bfb5-e9ee9e7b8f22",
   "metadata": {},
   "outputs": [],
   "source": [
    "units = int(input(\"Enter units:- \"))\n",
    "bill = 0.0\n",
    "\n",
    "if (units>0 and units<=100):\n",
    "    bill = units * 4.5\n",
    "elif (units>100 and units<=200):\n",
    "    bill = units * 6\n",
    "elif (units>200 and units<=300):\n",
    "    bill = units * 10\n",
    "elif (units>300):\n",
    "    if (units == 310):\n",
    "        bill = 2250\n",
    "    else:\n",
    "        bill = units * 20\n",
    "print(\"\\nElectricity bill:- \", bill)"
   ]
  },
  {
   "cell_type": "markdown",
   "id": "7a349b0f-2119-430b-8c31-31ecead76cba",
   "metadata": {},
   "source": [
    "Q.4 Create a list of numbers from 1 to 100. Use for loop and while loop to calculaye the cube of each \n",
    "    number and if the cube of that number is divisible by 4 or 5 then append that number in a list and print\n",
    "    that list."
   ]
  },
  {
   "cell_type": "code",
   "execution_count": null,
   "id": "10ff6a6e-88eb-417f-b55b-c23055c4c6ae",
   "metadata": {},
   "outputs": [],
   "source": [
    "list1 = list(range(1,101))\n",
    "list2 = []\n",
    "list3 = []\n",
    "count = 1\n",
    "\n",
    "while count <= 100:\n",
    "    list2.append(count*count*count)\n",
    "    count = count + 1\n",
    "#print(list2)\n",
    "\n",
    "for i in list2:\n",
    "    if (i%4==0 or i%5==0):\n",
    "        list3.append(i)\n",
    "print(list3)"
   ]
  },
  {
   "cell_type": "markdown",
   "id": "bbdbd541-58f4-4d95-8af6-0ad721490d24",
   "metadata": {},
   "source": [
    "Q.5 Write a program to filter count vowels in the below-given string.\n",
    "   string = \"I want to become a data scientist\""
   ]
  },
  {
   "cell_type": "code",
   "execution_count": null,
   "id": "4b4216cd-1b22-4e75-8c63-bb660384e620",
   "metadata": {},
   "outputs": [],
   "source": [
    "string = \"I want to become a data scientist\"\n",
    "vowels = [\"a\", \"e\", \"i\", \"o\", \"u\"]\n",
    "count = 0\n",
    "for i in string:\n",
    "    if i in vowels:\n",
    "        count = count + 1\n",
    "print(count)"
   ]
  }
 ],
 "metadata": {
  "kernelspec": {
   "display_name": "Python 3 (ipykernel)",
   "language": "python",
   "name": "python3"
  },
  "language_info": {
   "codemirror_mode": {
    "name": "ipython",
    "version": 3
   },
   "file_extension": ".py",
   "mimetype": "text/x-python",
   "name": "python",
   "nbconvert_exporter": "python",
   "pygments_lexer": "ipython3",
   "version": "3.10.8"
  }
 },
 "nbformat": 4,
 "nbformat_minor": 5
}
