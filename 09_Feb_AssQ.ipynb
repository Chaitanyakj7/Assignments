{
 "cells": [
  {
   "cell_type": "markdown",
   "id": "2a8d74b1-950c-47fc-a643-a70a1f5f5cc1",
   "metadata": {},
   "source": [
    "Q.1) Create a vehicle class with an init method having instance variables as name_of_vehicle, max_speed \n",
    "and average_of_vehicle."
   ]
  },
  {
   "cell_type": "code",
   "execution_count": 1,
   "id": "088373bc-70ca-46ab-9952-65b9669535e0",
   "metadata": {},
   "outputs": [],
   "source": [
    "class vehicle:\n",
    "    \n",
    "    def __init__(a, name_of_vehicle, max_speed, average_of_vehicle):\n",
    "        a.vehicle_name = name_of_vehicle\n",
    "        a.vehicle_max_speed = max_speed\n",
    "        a.vehicle_avg = average_of_vehicle\n",
    "        \n",
    "    def get_vehicle_name(a):\n",
    "        print(a.vehicle_name)\n",
    "        \n",
    "    def get_vehicle_speed(a):\n",
    "        print(a.vehicle_max_speed)\n",
    "        \n",
    "    def get_vehicle_avg(a):\n",
    "        print(a.vehicle_avg)"
   ]
  },
  {
   "cell_type": "markdown",
   "id": "a7668651-ebdc-4e82-9eca-2bc47d44ec21",
   "metadata": {},
   "source": [
    "Q.2) Create a child class car from the vehicle class created in Que1, which will inherit the vehicle class.\n",
    "Create a method named seating_capacity which takes capacity as an argument and returns the name of the\n",
    "vehicle and its seating capacity."
   ]
  },
  {
   "cell_type": "code",
   "execution_count": 5,
   "id": "ab625766-fef9-4e4e-a4e0-164c2567b80d",
   "metadata": {},
   "outputs": [
    {
     "name": "stdout",
     "output_type": "stream",
     "text": [
      "('Nexon', 4)\n"
     ]
    }
   ],
   "source": [
    "class car(vehicle):\n",
    "    \n",
    "    def seating_capacity(a, capacity):\n",
    "        return a.vehicle_name, capacity\n",
    "\n",
    "car_obj = car(\"Nexon\", 200, 20)\n",
    "print(car_obj.seating_capacity(4))"
   ]
  },
  {
   "cell_type": "markdown",
   "id": "7728bc64-4b44-4ea9-a807-89e24379f4e3",
   "metadata": {},
   "source": [
    "Q.3) What is multiple inheritance? Write a python code to demonstrate multiple inheritance.\n",
    "Answer:- The inheritance in which a class is derived from \n",
    "more than one base class is called as multiple\n",
    "inheritance."
   ]
  },
  {
   "cell_type": "code",
   "execution_count": 6,
   "id": "5521d16d-b603-4368-b1dc-4c64ccdcbedd",
   "metadata": {},
   "outputs": [
    {
     "name": "stdout",
     "output_type": "stream",
     "text": [
      "This is method of child class\n",
      "This is method of p1 class\n",
      "This is method of p2 class\n"
     ]
    }
   ],
   "source": [
    "class parent1:\n",
    "    \n",
    "    def p1(self):\n",
    "        print(\"This is method of p1 class\")\n",
    "        \n",
    "class parent2:\n",
    "    \n",
    "    def p2(self):\n",
    "        print(\"This is method of p2 class\")\n",
    "        \n",
    "class child(parent1, parent2):\n",
    "    \n",
    "    def c1(self):\n",
    "        print(\"This is method of child class\")\n",
    "        \n",
    "\n",
    "child_obj2 = child()\n",
    "child_obj2.c1()\n",
    "child_obj2.p1()\n",
    "child_obj2.p2()"
   ]
  },
  {
   "cell_type": "markdown",
   "id": "3e61707d-3f05-4424-ad4a-5986896226dc",
   "metadata": {},
   "source": [
    "Answer 4) Getter is a method that allows you to access an attribute in a given class. Setter is a method that allows you to set or mutate the value of an attribute in a class."
   ]
  },
  {
   "cell_type": "code",
   "execution_count": 13,
   "id": "6c30f362-a1e4-4d7c-bb93-dc6198a33a3a",
   "metadata": {},
   "outputs": [
    {
     "name": "stdout",
     "output_type": "stream",
     "text": [
      "0\n",
      "21\n",
      "\n",
      "\n",
      "getter method called\n",
      "0\n",
      "None\n"
     ]
    }
   ],
   "source": [
    "class class1:\n",
    "    \n",
    "    def __init__(a, age = 0):\n",
    "        a.__age = age\n",
    "        \n",
    "    def get_age(a):\n",
    "        print(a.__age)\n",
    "        \n",
    "    def set_age(a, x):\n",
    "        a.__age = x\n",
    "\n",
    "raj = class1()\n",
    "raj.get_age() \n",
    "raj.set_age(21)\n",
    "raj.get_age()\n",
    "print(\"\\n\")\n",
    "\n",
    "class class2:\n",
    "     \n",
    "    def __init__(self, age = 0):\n",
    "         self.__age = age\n",
    "    \n",
    "    def get_age(self):\n",
    "        print(\"getter method called\")\n",
    "        print(self.__age)\n",
    "         \n",
    "    def set_age(self, a):\n",
    "        print(\"setter method called\")\n",
    "        self.__age = a\n",
    "         \n",
    "    def del_age(self):\n",
    "         del self.__age\n",
    "         \n",
    "     \n",
    "    age = property(get_age, set_age, del_age)\n",
    "    \n",
    "john = class2()\n",
    "\n",
    "print(john.age)"
   ]
  },
  {
   "cell_type": "markdown",
   "id": "7fbb1fec-dca8-4534-b40d-27bc3c8060ff",
   "metadata": {},
   "source": [
    "Answer 5) When a method in a subclass has the same name, same\n",
    "parameters or signature and same return type as a method in\n",
    "its super-class, then the method in the subclass is said to\n",
    "override the method in the super-class.\n",
    "\n",
    "The version of a method that is executed will be determined\n",
    "by the object that is used to invoke it. If an object of \n",
    "a parent class is used to invoke the method, then the version\n",
    "in the parent class will be executed."
   ]
  },
  {
   "cell_type": "code",
   "execution_count": 14,
   "id": "b330d875-20f1-4f86-9815-d178b80e0c75",
   "metadata": {},
   "outputs": [
    {
     "name": "stdout",
     "output_type": "stream",
     "text": [
      "Parent is drinking water\n",
      "Child is drinking water\n"
     ]
    }
   ],
   "source": [
    "class parent:\n",
    "    \n",
    "    def drinking_water(self):\n",
    "        print(\"Parent is drinking water\")\n",
    "        \n",
    "class child:\n",
    "    \n",
    "    def drinking_water(self):\n",
    "        print(\"Child is drinking water\")\n",
    "        \n",
    "parent_obj = parent()\n",
    "child_obj = child()\n",
    "\n",
    "parent_obj.drinking_water()\n",
    "child_obj.drinking_water()"
   ]
  }
 ],
 "metadata": {
  "kernelspec": {
   "display_name": "Python 3 (ipykernel)",
   "language": "python",
   "name": "python3"
  },
  "language_info": {
   "codemirror_mode": {
    "name": "ipython",
    "version": 3
   },
   "file_extension": ".py",
   "mimetype": "text/x-python",
   "name": "python",
   "nbconvert_exporter": "python",
   "pygments_lexer": "ipython3",
   "version": "3.10.8"
  }
 },
 "nbformat": 4,
 "nbformat_minor": 5
}
