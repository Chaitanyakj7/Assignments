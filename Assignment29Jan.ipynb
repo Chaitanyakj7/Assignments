{
 "cells": [
  {
   "cell_type": "markdown",
   "id": "d7ac3511-60ee-4973-aa3e-815aec4e5cef",
   "metadata": {},
   "source": [
    "Q.1) Who developed Python programming language?\n",
    "\n",
    "Answer:- Guido van Rossum"
   ]
  },
  {
   "cell_type": "markdown",
   "id": "21b9cd2c-0d0d-4e6c-8ff5-6fb0c3a78198",
   "metadata": {},
   "source": [
    "Q.2) Which type of programming does Python support?\n",
    "\n",
    "Answer:- Python supports Object-oriented programming and structured programming "
   ]
  },
  {
   "cell_type": "markdown",
   "id": "f9394b29-de35-47bf-afc3-cf88e78cf95a",
   "metadata": {},
   "source": [
    "Q.3) Is Python case sensistive when dealing with identifiers?\n",
    "\n",
    "Answer:- Yes, Python is a case sensitive language."
   ]
  },
  {
   "cell_type": "markdown",
   "id": "fd2f35a2-77a0-48b8-b926-85d97df1ceb1",
   "metadata": {},
   "source": [
    "Q.4) What is the correct extension of the Python file?\n",
    "\n",
    "Answer:- .py is the correct extension of the Python file."
   ]
  },
  {
   "cell_type": "markdown",
   "id": "e6586ed4-00eb-476d-8b13-c6c09df348e3",
   "metadata": {},
   "source": [
    "Q.5) Is Pyhton code compiled or interpreted?\n",
    "\n",
    "Answer:- Python is a interpreted language."
   ]
  },
  {
   "cell_type": "markdown",
   "id": "1f31f099-0ae3-4d75-be69-37a8678c6438",
   "metadata": {},
   "source": [
    "Q.6) Name a few blocks of code used to define in Python language?\n",
    "\n",
    "Answer:- A module, a function body, and a class definition are blocks used to define in Python language./\n"
   ]
  },
  {
   "cell_type": "markdown",
   "id": "d622fff1-800a-4ef4-80d4-b9ed339a8964",
   "metadata": {},
   "source": [
    "Q.7) State a character used to give single-line comments in Pyhton?\n",
    "\n",
    "Answer:- '#'  "
   ]
  },
  {
   "cell_type": "markdown",
   "id": "7e21f486-bfed-43ff-b6d7-f325f8f75481",
   "metadata": {},
   "source": [
    "Q.8) Mention functions which can help us to find the version of Python that we currently working on?\n",
    "\n",
    "Answer:- 1) Import sys then directly use sys.version\n",
    "         2) From platform import pyhton_version function"
   ]
  },
  {
   "cell_type": "code",
   "execution_count": 5,
   "id": "10cde96c-a9ae-4317-a4e2-7341ef109622",
   "metadata": {},
   "outputs": [
    {
     "name": "stdout",
     "output_type": "stream",
     "text": [
      "Python version:-  3.10.8 | packaged by conda-forge | (main, Nov 22 2022, 08:26:04) [GCC 10.4.0]\n",
      "Python version:-  3.10.8\n"
     ]
    }
   ],
   "source": [
    "import sys\n",
    "from platform import python_version\n",
    "print(\"Python version:- \", sys.version)\n",
    "print(\"Python version:- \", python_version())"
   ]
  },
  {
   "cell_type": "markdown",
   "id": "c25dd224-56c2-4be6-9634-b86b47e9b60f",
   "metadata": {},
   "source": [
    "Q.9) Pyhton supports the creation of anonymous function, at runtime, using a construct called _ _ _ _ _\n",
    "\n",
    "Answer:- lambda"
   ]
  },
  {
   "cell_type": "markdown",
   "id": "b00c05cf-3b6e-4852-a27f-bcb9c49b01bb",
   "metadata": {},
   "source": [
    "Q.10) What does pip stand for Python?\n",
    "\n",
    "Answer:- pip is a standard tool for installing packages and their dependencies in a secure manner."
   ]
  },
  {
   "cell_type": "markdown",
   "id": "9cd447bc-5582-4911-985c-74b45792e31a",
   "metadata": {},
   "source": [
    "Q.11) Mention a few built-in functions in Python?\n",
    "\n",
    "Answer:- print(), input(), len(), sqrt(), etc."
   ]
  },
  {
   "cell_type": "markdown",
   "id": "2ba05f93-0bda-4072-a2e0-bc0e6f4ce575",
   "metadata": {},
   "source": [
    "Q.12) What is the maximum possible length of an identifier in Python?\n",
    "\n",
    "Answer:- An identifier can have a maximum length of 79 characters in Python."
   ]
  },
  {
   "cell_type": "markdown",
   "id": "0753efb6-043b-46a1-9901-801391796e59",
   "metadata": {},
   "source": [
    "Q.13) What are benefits of using Python?\n",
    "\n",
    "Answer:- 1) Python programming language is easy to learn.\n",
    "         2) It is dynamically typed language. Here we don't need to mention datatype based on the value assigned, it takes data type.\n",
    "         3) User-friendly data structures\n",
    "         4) High level language\n",
    "         5) Portable and interactive\n",
    "         6) Open source and large community base"
   ]
  },
  {
   "cell_type": "markdown",
   "id": "0739b8ae-8786-4342-9b8e-77be98791c89",
   "metadata": {},
   "source": [
    "Q.14) How is memory managed in Python?\n",
    "\n",
    "Answer:- 1) Memory allocation can be defined as allocating a block of space in the computer memory to a program.\n",
    "         2) Python has a private heap that stores our program's objects and data structures. Python memory manager takes care of the bulk of the memory management work and allows us to concentrate on our code.\n",
    "         3) Static memory allocation:\n",
    "             a) The stack data structure provides static memory allocation, meaning the variables are assigned in the stack memory.\n",
    "             b) Variables must be allocated in advance and persist for the duration of the program.\n",
    "             c) We cannot reuse the memory allocated in the stack memory. \n",
    "        4) Dynamic memory allocation:\n",
    "             a) The dynamic memory allocation uses heap data structures in its implementation, implying that variables are in the heap memory. Here, variables are not permanent and can be changed while a program is running.\n",
    "             b) Here, allocated memory can be relinquished and reused.\n",
    "        5) Python Garbage Collection:\n",
    "             a) The Python garbage collector handles memory allocation and deallocation automatically in Python.\n",
    "             b) Garbage collection in Python refers to the interpreter's memory management process of freeing\n",
    "up unneeded and undesired memory for our applications."
   ]
  },
  {
   "cell_type": "markdown",
   "id": "0b45fcc2-a980-42ee-b084-48ed5f88553a",
   "metadata": {},
   "source": [
    "Q.15) How to install Python on Windows and set path variables?\n",
    "\n",
    "Answer:- 1) To download Python, visit www.python.org, which is the official Pyhton website. Click on downloads tab and then select the Windows option.\n",
    "         2) Setting Path in Python\n",
    "             a) Right clock on My computer and clock on properties.\n",
    "             b) Click on advanced settings.\n",
    "             c) Click on Environmental Variable tab.\n",
    "             d) Click on new tab of user variables.\n",
    "             e) Write path in variable name.\n",
    "             f) Copy the path of Python folder.\n",
    "             g) Paste path of Python in variable name.\n",
    "             h) Click on Ok bu"
   ]
  },
  {
   "cell_type": "markdown",
   "id": "e72a832d-c8f0-4dcc-867e-5f52d2318e68",
   "metadata": {},
   "source": [
    "Q.16) Is indentation required in Python?\n",
    "\n",
    "Answer:- Indentation refers to the spaces at the beginning of a code line and it is required in Python."
   ]
  },
  {
   "cell_type": "code",
   "execution_count": 10,
   "id": "7912225b-3592-4371-9a3c-37b1d966499d",
   "metadata": {},
   "outputs": [
    {
     "name": "stdin",
     "output_type": "stream",
     "text": [
      "Enter number(greater than 10):-  27\n"
     ]
    },
    {
     "name": "stdout",
     "output_type": "stream",
     "text": [
      "27 can be divided by 3:- 6 times\n"
     ]
    }
   ],
   "source": [
    "number = int(input(\"Enter number(greater than 10):- \"))\n",
    "count = 0\n",
    "number1 = number\n",
    "\n",
    "while number >= 10:\n",
    "    if (number%3 == 0):\n",
    "        count = count + 1\n",
    "    number = number - 1\n",
    "print(number1,\"can be divided by 3:-\",count, \"times\")"
   ]
  }
 ],
 "metadata": {
  "kernelspec": {
   "display_name": "Python 3 (ipykernel)",
   "language": "python",
   "name": "python3"
  },
  "language_info": {
   "codemirror_mode": {
    "name": "ipython",
    "version": 3
   },
   "file_extension": ".py",
   "mimetype": "text/x-python",
   "name": "python",
   "nbconvert_exporter": "python",
   "pygments_lexer": "ipython3",
   "version": "3.10.8"
  }
 },
 "nbformat": 4,
 "nbformat_minor": 5
}
