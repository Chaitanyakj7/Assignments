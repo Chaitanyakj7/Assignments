{
 "cells": [
  {
   "cell_type": "markdown",
   "id": "00839adb-98ec-4834-80a3-b86dcfa8c0eb",
   "metadata": {},
   "source": [
    "Q.1 Which keyword is used to create a function? Create function to return a list of odd numbers in the range\n",
    "    of 1 to 25.\n",
    "\n",
    "Answer:- 'def' is a keyword used to create function in Python"
   ]
  },
  {
   "cell_type": "code",
   "execution_count": 4,
   "id": "567d88b3-c015-44f4-9b12-2ac88e76a4a8",
   "metadata": {},
   "outputs": [
    {
     "data": {
      "text/plain": [
       "[1, 3, 5, 7, 9, 11, 13, 15, 17, 19, 21, 23, 25]"
      ]
     },
     "execution_count": 4,
     "metadata": {},
     "output_type": "execute_result"
    }
   ],
   "source": [
    "lis = list(range(1, 26))\n",
    "\n",
    "def odd_num(l):\n",
    "    lis2 = []\n",
    "    for i in l:\n",
    "        if i%2 != 0:\n",
    "            lis2.append(i)\n",
    "    return lis2\n",
    "odd_num(lis)"
   ]
  },
  {
   "cell_type": "markdown",
   "id": "4a04e7fd-f3fd-4d7c-9687-089090f43555",
   "metadata": {},
   "source": [
    "Q.2 Why *args and **kwargs is used in some functions? Create a function each for *args and **kwargs to \n",
    "    demonstrate their use.\n",
    "\n",
    "Answer:- *args is used to take n number of arguments and **kwargs is used to take arguments in the form of\n",
    "        key-value pair."
   ]
  },
  {
   "cell_type": "code",
   "execution_count": 6,
   "id": "63fba9cd-dfa2-4df8-91cc-5491bc998fc6",
   "metadata": {},
   "outputs": [
    {
     "data": {
      "text/plain": [
       "('om', 1, 2.2, 44.5, 4545235, 'jay', [1, 2, 3, 4], (45, 50, 70))"
      ]
     },
     "execution_count": 6,
     "metadata": {},
     "output_type": "execute_result"
    }
   ],
   "source": [
    "def funct(*args):\n",
    "    return args\n",
    "funct(\"om\", 1, 2.2, 44.5, 4545235, \"jay\", [1,2,3,4], (45,50,70))"
   ]
  },
  {
   "cell_type": "code",
   "execution_count": 13,
   "id": "f12d62c2-2c15-4a1f-8dc1-9a43b619cd43",
   "metadata": {},
   "outputs": [
    {
     "data": {
      "text/plain": [
       "{'name': 'amol', 'age': 23, 'address': 'mumbai'}"
      ]
     },
     "execution_count": 13,
     "metadata": {},
     "output_type": "execute_result"
    }
   ],
   "source": [
    "def funct2(**kwargs):\n",
    "    return kwargs\n",
    "funct2(name = \"amol\", age = 23, address = \"mumbai\")"
   ]
  },
  {
   "cell_type": "markdown",
   "id": "d2fa4774-e9db-4325-a8e8-a76d607aa70f",
   "metadata": {},
   "source": [
    "Q.3 What is an iterator in python? Name the method used to initialise the iterator object and the method used \n",
    "   for ieration. Use these methods to print first five elements of the given list [2,4,6,8,10,12,14,16,18,20].\n",
    "   \n",
    "Answer:- 1) In python iterator is an object which is used to iterate over iterable objects like lists, tuples, dicts and sets.\n",
    "         2) iter() method is used to initialize the iterator object which returns an iterator object.\n",
    "         3) next() method is used for iteration which returns the next value for the iterable."
   ]
  },
  {
   "cell_type": "code",
   "execution_count": 3,
   "id": "3b0d9c00-a9d4-433b-9947-918a25184afb",
   "metadata": {},
   "outputs": [
    {
     "name": "stdout",
     "output_type": "stream",
     "text": [
      "2\n",
      "4\n",
      "6\n",
      "8\n",
      "10\n"
     ]
    }
   ],
   "source": [
    "lis = [2,4,6,8,10,12,14,16,18,20]\n",
    "iter_lis = iter(lis)\n",
    "for i in range(5):\n",
    "    print(next(iter_lis))"
   ]
  },
  {
   "cell_type": "markdown",
   "id": "01fd70c2-0b6d-471d-928b-0f73a08ee20a",
   "metadata": {},
   "source": [
    "Q.4 What is a generator function in python? Why yield keyword is used? Give an example of generator function.\n",
    "\n",
    "Answer:- 1) In Python, generator function is a function that returns an iterator that produces a sequence of values when itetated over.\n",
    "         2) In this type of function yield keyword is used instead of return to produce a value from the generator."
   ]
  },
  {
   "cell_type": "code",
   "execution_count": 5,
   "id": "d08e73f3-295a-47ac-b151-a038e4cee079",
   "metadata": {},
   "outputs": [
    {
     "name": "stdout",
     "output_type": "stream",
     "text": [
      "1\n",
      "2\n",
      "3\n",
      "4\n",
      "5\n",
      "6\n",
      "7\n",
      "8\n",
      "9\n",
      "10\n",
      "11\n"
     ]
    }
   ],
   "source": [
    "def test():\n",
    "    count = 1\n",
    "    while True:\n",
    "        yield count\n",
    "        count = count + 1\n",
    "x = test()\n",
    "for i in range(11):\n",
    "    print(next(x))"
   ]
  },
  {
   "cell_type": "markdown",
   "id": "616044bb-fdeb-48fe-9551-62846dc53263",
   "metadata": {},
   "source": [
    "Q.5 Create a generator function for prime numbers less than 1000. Use the next() method to print the first\n",
    "    20 prime numbers."
   ]
  },
  {
   "cell_type": "code",
   "execution_count": 2,
   "id": "3e34852d-4fe5-41f7-a99a-14188b722c1b",
   "metadata": {},
   "outputs": [],
   "source": [
    "def test_prime():\n",
    "    num = 2\n",
    "    flag = 1\n",
    "    while num <= 1000:\n",
    "        for i in range(2, num):\n",
    "            if num % i == 0:\n",
    "                flag = 0\n",
    "                break\n",
    "            else:\n",
    "                flag = 1\n",
    "        if flag == 1:\n",
    "            yield num\n",
    "        num = num + 1\n"
   ]
  },
  {
   "cell_type": "code",
   "execution_count": 3,
   "id": "962d21cf-94a9-4a27-a3ed-e7df25ad0523",
   "metadata": {},
   "outputs": [],
   "source": [
    "x = test_prime()"
   ]
  },
  {
   "cell_type": "code",
   "execution_count": 4,
   "id": "8cd2beb4-8d95-4e73-9eb6-45d533f1cef7",
   "metadata": {},
   "outputs": [
    {
     "name": "stdout",
     "output_type": "stream",
     "text": [
      "2\n",
      "3\n",
      "5\n",
      "7\n",
      "11\n",
      "13\n",
      "17\n",
      "19\n",
      "23\n",
      "29\n",
      "31\n",
      "37\n",
      "41\n",
      "43\n",
      "47\n",
      "53\n",
      "59\n",
      "61\n",
      "67\n",
      "71\n",
      "73\n"
     ]
    }
   ],
   "source": [
    "for i in range(21):\n",
    "    print(next(x))"
   ]
  },
  {
   "cell_type": "markdown",
   "id": "15d91d41-b94b-4405-9b22-f58d91d8e5c5",
   "metadata": {},
   "source": [
    "Q.6 Write a python program to print the first 10 Fibonacci numbers using a while loop."
   ]
  },
  {
   "cell_type": "code",
   "execution_count": 14,
   "id": "fd3a9c54-581c-4abe-9672-360483d89747",
   "metadata": {},
   "outputs": [
    {
     "name": "stdin",
     "output_type": "stream",
     "text": [
      "Enter number:-  10\n"
     ]
    },
    {
     "name": "stdout",
     "output_type": "stream",
     "text": [
      "0\n",
      "1\n",
      "1\n",
      "2\n",
      "3\n",
      "5\n",
      "8\n",
      "13\n",
      "21\n",
      "34\n"
     ]
    }
   ],
   "source": [
    "num = int(input(\"Enter number:- \"))\n",
    "a = 0\n",
    "b = 1\n",
    "counter = 0\n",
    "while counter < num :\n",
    "    print(a)\n",
    "    c = a + b\n",
    "    a = b\n",
    "    b = c\n",
    "    counter = counter + 1"
   ]
  },
  {
   "cell_type": "markdown",
   "id": "56ef0b2b-5dbf-4580-bb39-2dd69f69187b",
   "metadata": {},
   "source": [
    "Q.7 Write a list comprehension to iterate through the given string:'pwskills'.\n",
    "    Expected output:['p', 'w', 's', 'k', 'i', 'l', 'l', 's']."
   ]
  },
  {
   "cell_type": "code",
   "execution_count": 15,
   "id": "b3bfbad1-5254-4dd6-b413-64c66b94b3df",
   "metadata": {},
   "outputs": [
    {
     "data": {
      "text/plain": [
       "['p', 'w', 's', 'k', 'i', 'l', 'l', 's']"
      ]
     },
     "execution_count": 15,
     "metadata": {},
     "output_type": "execute_result"
    }
   ],
   "source": [
    "string = \"pwskills\"\n",
    "[i for i in string]"
   ]
  },
  {
   "cell_type": "markdown",
   "id": "91790a6f-412f-42f9-9c15-3ffb0168c566",
   "metadata": {},
   "source": [
    "Q.8 Write a python program to check whether a given number is a palindrome or not using a while loop."
   ]
  },
  {
   "cell_type": "code",
   "execution_count": 34,
   "id": "e815b515-4a12-4eb7-bf24-4989c8c429b0",
   "metadata": {},
   "outputs": [
    {
     "name": "stdin",
     "output_type": "stream",
     "text": [
      "Enter number:-  123454321\n"
     ]
    },
    {
     "name": "stdout",
     "output_type": "stream",
     "text": [
      "123454321 is a Palindrome\n"
     ]
    }
   ],
   "source": [
    "num = input(\"Enter number:- \")\n",
    "count = 0\n",
    "i = 0\n",
    "j = len(num)-1\n",
    "result = 0\n",
    "\n",
    "while count < int(len(num)/2):\n",
    "    if num[i] == num[j]:\n",
    "        result = 1\n",
    "    else:\n",
    "        result = 0\n",
    "    i = i + 1\n",
    "    j = j - 1\n",
    "    count = count + 1\n",
    "\n",
    "if result == 1:\n",
    "    print(int(num),\"is a Palindrome\")\n",
    "else:\n",
    "    print(int(num),\"is not a Palindrome\")\n"
   ]
  },
  {
   "cell_type": "markdown",
   "id": "4617150d-3353-459d-983b-0d9421288252",
   "metadata": {},
   "source": [
    "Q.9 Write a code to print odd numbers from 1 to 100 using list comprehension.\n",
    "Note: Use a list comprehension to create a list from 1 to 100 and use another list comprehension to filter\n",
    "out odd numbers"
   ]
  },
  {
   "cell_type": "code",
   "execution_count": 9,
   "id": "9f7816f8-cc75-4b56-adfc-7d25764dccd4",
   "metadata": {},
   "outputs": [
    {
     "data": {
      "text/plain": [
       "[1,\n",
       " 3,\n",
       " 5,\n",
       " 7,\n",
       " 9,\n",
       " 11,\n",
       " 13,\n",
       " 15,\n",
       " 17,\n",
       " 19,\n",
       " 21,\n",
       " 23,\n",
       " 25,\n",
       " 27,\n",
       " 29,\n",
       " 31,\n",
       " 33,\n",
       " 35,\n",
       " 37,\n",
       " 39,\n",
       " 41,\n",
       " 43,\n",
       " 45,\n",
       " 47,\n",
       " 49,\n",
       " 51,\n",
       " 53,\n",
       " 55,\n",
       " 57,\n",
       " 59,\n",
       " 61,\n",
       " 63,\n",
       " 65,\n",
       " 67,\n",
       " 69,\n",
       " 71,\n",
       " 73,\n",
       " 75,\n",
       " 77,\n",
       " 79,\n",
       " 81,\n",
       " 83,\n",
       " 85,\n",
       " 87,\n",
       " 89,\n",
       " 91,\n",
       " 93,\n",
       " 95,\n",
       " 97,\n",
       " 99]"
      ]
     },
     "execution_count": 9,
     "metadata": {},
     "output_type": "execute_result"
    }
   ],
   "source": [
    "[i for i in list(range(1, 101)) if i%2!=0]"
   ]
  },
  {
   "cell_type": "code",
   "execution_count": null,
   "id": "8600cdbb-552a-4144-8f1e-ed1cd3c524a6",
   "metadata": {},
   "outputs": [],
   "source": []
  },
  {
   "cell_type": "code",
   "execution_count": null,
   "id": "17562b4c-c7a3-4fe1-9c37-5668c6842532",
   "metadata": {},
   "outputs": [],
   "source": []
  }
 ],
 "metadata": {
  "kernelspec": {
   "display_name": "Python 3 (ipykernel)",
   "language": "python",
   "name": "python3"
  },
  "language_info": {
   "codemirror_mode": {
    "name": "ipython",
    "version": 3
   },
   "file_extension": ".py",
   "mimetype": "text/x-python",
   "name": "python",
   "nbconvert_exporter": "python",
   "pygments_lexer": "ipython3",
   "version": "3.10.8"
  }
 },
 "nbformat": 4,
 "nbformat_minor": 5
}
