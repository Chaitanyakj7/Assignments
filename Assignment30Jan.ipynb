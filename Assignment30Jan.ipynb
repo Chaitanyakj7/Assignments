{
 "cells": [
  {
   "cell_type": "markdown",
   "id": "50bb4858-5560-41d7-bfc8-4f1082f49594",
   "metadata": {},
   "source": [
    "Q.1) Write a program to accept percentage from the user and display the grade according to the following criteria:\n",
    "\n",
    "   Marks            Grade\n",
    "   >90              A\n",
    "   >80 and <=90     B\n",
    "   >=60 and <=80    C\n",
    "   below 60         D"
   ]
  },
  {
   "cell_type": "code",
   "execution_count": 5,
   "id": "6c54179a-2c07-426e-8d09-7cbc66a85662",
   "metadata": {},
   "outputs": [
    {
     "name": "stdin",
     "output_type": "stream",
     "text": [
      "Enter percentage:-  99.99\n"
     ]
    },
    {
     "name": "stdout",
     "output_type": "stream",
     "text": [
      "\n",
      "Percentage:- 99.99 Grade:- A\n"
     ]
    }
   ],
   "source": [
    "per = float(input(\"Enter percentage:- \"))\n",
    "grade = \"\"\n",
    "\n",
    "if per > 90:\n",
    "    grade = \"A\"\n",
    "elif per>80 and per<=90:\n",
    "    grade = \"B\"\n",
    "elif per>=60 and per<=80:\n",
    "    grade = \"C\"\n",
    "elif per < 60:\n",
    "    grade = \"D\"\n",
    "\n",
    "print(\"\\nPercentage:-\", per, \"Grade:-\", grade)"
   ]
  },
  {
   "cell_type": "markdown",
   "id": "024e0803-bf12-45c7-bae7-d4888e6840e2",
   "metadata": {},
   "source": [
    "Q.2) Write a program to accept the cost price of a bike and display the road tax to be paid according to the following criteria:\n",
    "\n",
    "   Tax   Cost Price(in Rs)\n",
    "   15%   >100000\n",
    "   10%   >50000 and <=100000\n",
    "   5%    <=50000"
   ]
  },
  {
   "cell_type": "code",
   "execution_count": 6,
   "id": "bc523730-f416-4832-9b2f-f3409cb84db9",
   "metadata": {},
   "outputs": [
    {
     "name": "stdin",
     "output_type": "stream",
     "text": [
      "Enter bike price:-  100001\n"
     ]
    },
    {
     "name": "stdout",
     "output_type": "stream",
     "text": [
      "\n",
      "Cost of bike:- 100001 Tax:- 15000.15\n"
     ]
    }
   ],
   "source": [
    "cost = int(input(\"Enter bike price:- \"))\n",
    "\n",
    "if cost > 100000:\n",
    "    tax = cost*0.15\n",
    "elif cost>50000 and cost<=100000:\n",
    "    tax = cost*0.1\n",
    "elif cost<=50000:\n",
    "    tax = cost*0.05\n",
    "\n",
    "print(\"\\nCost of bike:-\", cost, \"Tax:-\", tax)    "
   ]
  },
  {
   "cell_type": "markdown",
   "id": "c1919476-1dfa-4156-b3e4-f2566c2650db",
   "metadata": {},
   "source": [
    "Q.3) Accept any city from the user and display monuments of that city.\n",
    "\n",
    "   City     Monument\n",
    "   Delhi    Red Fort\n",
    "   Agra     Taj Mahal\n",
    "   Jaipur   Jai Mahal"
   ]
  },
  {
   "cell_type": "code",
   "execution_count": 3,
   "id": "ce1aff05-7908-496e-b2b7-32ad5072a710",
   "metadata": {},
   "outputs": [
    {
     "name": "stdin",
     "output_type": "stream",
     "text": [
      "Enter city name:-  Agra\n"
     ]
    },
    {
     "name": "stdout",
     "output_type": "stream",
     "text": [
      "Monument:- Taj Mahal\n"
     ]
    }
   ],
   "source": [
    "city = input(\"Enter city name:- \")\n",
    "\n",
    "if (city == \"Delhi\"):\n",
    "    print(\"Monumnet:- Red Fort\")\n",
    "elif (city == \"Agra\"):\n",
    "    print(\"Monument:- Taj Mahal\")\n",
    "elif(city == \"Jaipur\"):\n",
    "    print(\"Monument:- Jai Mahal\")\n",
    "else:\n",
    "    print(\"Invalid City Name\")"
   ]
  },
  {
   "cell_type": "markdown",
   "id": "7e604c13-e462-402e-9fbd-08c4b8f100f3",
   "metadata": {},
   "source": [
    "Q.4) Check how many times a given number can be divided by 3 before it is less than or equal to 10."
   ]
  },
  {
   "cell_type": "code",
   "execution_count": 4,
   "id": "67822977-616f-4c56-a253-4cd8c6e2b0ac",
   "metadata": {},
   "outputs": [
    {
     "name": "stdin",
     "output_type": "stream",
     "text": [
      "Enter number(greater than 10):-  27\n"
     ]
    },
    {
     "name": "stdout",
     "output_type": "stream",
     "text": [
      "27 can be divided by 3:- 6 times\n"
     ]
    }
   ],
   "source": [
    "number = int(input(\"Enter number(greater than 10):- \"))\n",
    "count = 0\n",
    "number1 = number\n",
    "\n",
    "while number > 9:\n",
    "    if (number%3 == 0):\n",
    "        count = count + 1\n",
    "    number = number - 1\n",
    "print(number1,\"can be divided by 3:-\",count,\"times\")"
   ]
  },
  {
   "cell_type": "markdown",
   "id": "eb4e6ac8-fbfe-45b5-a22e-dc3e4e838dce",
   "metadata": {},
   "source": [
    "Q.5) Why and when to use while loop in Python, give detailed description with example?\n",
    "\n",
    "Answer:- 1) Python while loop is used to run a block of code until a certain condition is met.\n",
    "         2) Syntax:\n",
    "              while condition:\n",
    "                     #body of while loop\n",
    "         3) Here, a while loop evaluates the condition.\n",
    "         4) If the condition evaluates to True, the code inside the while loop is executed.\n",
    "         5) Then condition is evaluated again.\n",
    "         6) This process continues untill the condition is False.\n",
    "         7) When condition evaluates to False, the loop stops."
   ]
  },
  {
   "cell_type": "code",
   "execution_count": 7,
   "id": "cf7141bf-dfbd-4525-9313-f6d267cb80a8",
   "metadata": {},
   "outputs": [
    {
     "name": "stdout",
     "output_type": "stream",
     "text": [
      "1\n",
      "2\n",
      "3\n",
      "4\n"
     ]
    }
   ],
   "source": [
    "# While loop example\n",
    "\n",
    "i = 1\n",
    "n = 5\n",
    "while i < n:\n",
    "    print(i)\n",
    "    i = i + 1"
   ]
  },
  {
   "cell_type": "markdown",
   "id": "f9ef1c3d-b6cb-4027-aded-0e087f158c49",
   "metadata": {},
   "source": [
    "Q.6) Use nested while loop to print 3 different patterns."
   ]
  },
  {
   "cell_type": "code",
   "execution_count": 3,
   "id": "cb3d70af-61bd-43d8-a0fc-3f3d17a79499",
   "metadata": {},
   "outputs": [
    {
     "name": "stdout",
     "output_type": "stream",
     "text": [
      "\n",
      "First pattern\n",
      "\n",
      "* \n",
      "* * \n",
      "* * * \n",
      "* * * * \n",
      "* * * * * \n",
      "* * * * * * \n",
      "\n",
      "Second pattern\n",
      "\n",
      "* * * * * * \n",
      "* * * * * \n",
      "* * * * \n",
      "* * * \n",
      "* * \n",
      "* \n",
      "\n",
      "Third pattern\n",
      "\n",
      "* * * * \n",
      "* * * * \n",
      "* * * * \n",
      "* * * * \n"
     ]
    }
   ],
   "source": [
    "print(\"\\nFirst pattern\\n\")\n",
    "i = 0\n",
    "\n",
    "while i <= 5:\n",
    "    j = 0\n",
    "    while j <= i:\n",
    "        print(\"*\", end = \" \")\n",
    "        j = j + 1\n",
    "    print()\n",
    "    i = i + 1\n",
    "    \n",
    "print(\"\\nSecond pattern\\n\")\n",
    "i1 = 5\n",
    "\n",
    "while i1 >= 0:\n",
    "    j1 = 0\n",
    "    while j1 <= i1:\n",
    "        print(\"*\", end = \" \")\n",
    "        j1 = j1 + 1\n",
    "    print() \n",
    "    i1 = i1 - 1\n",
    "    \n",
    "print(\"\\nThird pattern\\n\")\n",
    "i2 = 3\n",
    "\n",
    "while i2 >=0:\n",
    "    j2 = 3\n",
    "    while j2 >= 0:\n",
    "        print(\"*\", end = \" \")\n",
    "        j2 = j2 - 1\n",
    "    print()\n",
    "    i2 = i2 - 1"
   ]
  },
  {
   "cell_type": "markdown",
   "id": "7bd58508-189f-4592-82de-3bb31723237f",
   "metadata": {},
   "source": [
    "Q.7) Reverse a while loop to display numbers from 10 to 1."
   ]
  },
  {
   "cell_type": "code",
   "execution_count": null,
   "id": "518d95ef-829f-4434-be8c-88ff6fd1676d",
   "metadata": {},
   "outputs": [],
   "source": [
    "i = 10\n",
    "while i >= 1:\n",
    "    print(i)\n",
    "    i = i - 1"
   ]
  },
  {
   "cell_type": "code",
   "execution_count": null,
   "id": "41108e49-b592-40db-a713-13bfaec2e1c2",
   "metadata": {},
   "outputs": [],
   "source": []
  }
 ],
 "metadata": {
  "kernelspec": {
   "display_name": "Python 3 (ipykernel)",
   "language": "python",
   "name": "python3"
  },
  "language_info": {
   "codemirror_mode": {
    "name": "ipython",
    "version": 3
   },
   "file_extension": ".py",
   "mimetype": "text/x-python",
   "name": "python",
   "nbconvert_exporter": "python",
   "pygments_lexer": "ipython3",
   "version": "3.10.8"
  }
 },
 "nbformat": 4,
 "nbformat_minor": 5
}
