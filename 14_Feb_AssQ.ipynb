{
 "cells": [
  {
   "cell_type": "markdown",
   "id": "513699b7-ee2c-4581-81cc-905455efadf0",
   "metadata": {},
   "source": [
    "Answer 1)\n",
    "Multithreading refres to the mechanism of dividing the main \n",
    "task in more than one sub-tasks and executing them in an \n",
    "overlapping manner. This makes the execution faster as\n",
    "compared to single thread.\n",
    "Python multithreading enables efficient utilization of the \n",
    "resources as the threads share the data space and memory.\n",
    "\n",
    "Threading module is used to hanlde threads in Python."
   ]
  },
  {
   "cell_type": "markdown",
   "id": "590c78cf-1ca2-4faf-9447-651307853dca",
   "metadata": {},
   "source": [
    "Answer 2)\n",
    "The threading module allows multiple threads of execution to\n",
    "take place in a Python program.\n",
    "\n",
    "1)active_count():- The method threading.active_count() is\n",
    "used to count the currently active or running threads.\n",
    "Syntax:- threading.active_count()\n",
    "This method does not take any argument value.\n",
    "This mehtod returns thr total currently active thread count."
   ]
  },
  {
   "cell_type": "markdown",
   "id": "0da8481b-d763-4097-be71-8e2440d6bb01",
   "metadata": {},
   "source": [
    "2)current_thread():- The method threading.current_thread() is\n",
    "used to return the current thread object, which corresponds\n",
    "to the caller's thread of control.\n",
    "Syntax:- threading.current_thread()\n",
    "This method does not take any argument value.\n",
    "It returns the current thread object active at the moment."
   ]
  },
  {
   "cell_type": "markdown",
   "id": "9337be78-99cd-47c7-8be6-813808504c7e",
   "metadata": {},
   "source": [
    "3)enumerate():- The adds a counter to an iterable and returns\n",
    "it in the form of an enumerating object.This enumerated object\n",
    "can then be used directly for loops or converted into a list\n",
    "of tuples using list() function.\n",
    "Syntax:- enumerate(iterable, start=0)\n",
    "It returns an iterator with index and element pairs from the\n",
    "the original iterable."
   ]
  },
  {
   "cell_type": "markdown",
   "id": "71db0c82-9668-4cc7-abf3-74169ab39c96",
   "metadata": {},
   "source": [
    "Answer 3)\n",
    "1)run():- The .run() method executes any target function\n",
    "belonging to a given thread object that is now active. It\n",
    "normally executes in the backgound after the .start() method \n",
    "is invoked.\n",
    "Syntax:- thread_object.start() \n",
    "#run() executing in the background"
   ]
  },
  {
   "cell_type": "code",
   "execution_count": 1,
   "id": "13bf7b70-1c7c-4658-ae3f-777cea54bd76",
   "metadata": {},
   "outputs": [
    {
     "name": "stdout",
     "output_type": "stream",
     "text": [
      "func_1 value:-  1\n",
      "func_2 value:-  2\n",
      "func_3 value:-  3\n"
     ]
    }
   ],
   "source": [
    "import threading\n",
    "\n",
    "def func_1(x):\n",
    "    print(\"func_1 value:- \", x)\n",
    "    \n",
    "def func_2(x):\n",
    "    print(\"func_2 value:- \", x)\n",
    "\n",
    "def func_3(x):\n",
    "    print(\"func_3 value:- \", 3)\n",
    "    \n",
    "thread_1 = threading.Thread(target = func_1, args = (1,))\n",
    "thread_2 = threading.Thread(target = func_2, args = (2,))\n",
    "thread_3 = threading.Thread(target = func_3, args = (3,))\n",
    "\n",
    "thread_1.run()\n",
    "thread_2.run()\n",
    "thread_3.run()"
   ]
  },
  {
   "cell_type": "markdown",
   "id": "0838ac97-029e-4f60-bac8-4302131934da",
   "metadata": {},
   "source": [
    "2)start():- The .start() method activates and prompts a \n",
    "thread object to be run.\n",
    "Syntax:- thread_object.start()"
   ]
  },
  {
   "cell_type": "code",
   "execution_count": 2,
   "id": "cb5464eb-f165-44f9-bc3d-d13c82c722a2",
   "metadata": {},
   "outputs": [
    {
     "name": "stdout",
     "output_type": "stream",
     "text": [
      "Here value is:- 4\n"
     ]
    }
   ],
   "source": [
    "def fun_4(x):\n",
    "    print(\"Here value is:-\", x)\n",
    "    \n",
    "thread_4 = threading.Thread(target = fun_4, args = (4, ))\n",
    "\n",
    "thread_4.start()"
   ]
  },
  {
   "cell_type": "markdown",
   "id": "3d4e472f-7c95-4638-ba5f-a950f05c6331",
   "metadata": {},
   "source": [
    "3)join():- The .join() method delays a program's flow of \n",
    "execution until the target thread has been completely read.\n",
    "Syntax:- thread_object.join(timeout)\n",
    "It always returns None. There is also a timeout parameter \n",
    "that is set to None by default. If set otherwise, it must\n",
    "be represented in seconds with a floating-point value."
   ]
  },
  {
   "cell_type": "code",
   "execution_count": 8,
   "id": "afe2d160-24ff-4b33-88a7-3abe58fa9504",
   "metadata": {},
   "outputs": [
    {
     "name": "stdout",
     "output_type": "stream",
     "text": [
      "True\n",
      "Done\n",
      "False\n",
      "Done\n"
     ]
    },
    {
     "data": {
      "text/plain": [
       "'The second thread, thread_6, cannot start before thread_5\\nis finished due to .join().'"
      ]
     },
     "execution_count": 8,
     "metadata": {},
     "output_type": "execute_result"
    }
   ],
   "source": [
    "def is_divisible(a, b):\n",
    "    if a % b == 0:\n",
    "        print(True)\n",
    "    else:\n",
    "        print(False)\n",
    "    print(\"Done\")\n",
    "        \n",
    "thread_5 = threading.Thread(target=is_divisible, args = (10, 5))\n",
    "thread_6 = threading.Thread(target=is_divisible, args = (11, 5))\n",
    "\n",
    "thread_5.start()\n",
    "thread_5.join()\n",
    "\n",
    "thread_6.start()\n",
    "thread_6.join()\n",
    "\n",
    "'''The second thread, thread_6, cannot start before thread_5\n",
    "is finished due to .join().'''"
   ]
  },
  {
   "cell_type": "markdown",
   "id": "10ae1c77-298a-4be0-a871-78b1ef24c7cd",
   "metadata": {},
   "source": [
    "4)is_alive():- The .is_alive() method returns True if the\n",
    "thread is still running and False, otherwise.\n",
    "Syntax:- thread_object.is_alive()"
   ]
  },
  {
   "cell_type": "code",
   "execution_count": 9,
   "id": "71030f3f-5da2-4e7e-9d32-e586d18cad28",
   "metadata": {},
   "outputs": [
    {
     "name": "stdout",
     "output_type": "stream",
     "text": [
      "hello world\n",
      "Is thread a live?:- False\n"
     ]
    }
   ],
   "source": [
    "def hello_world():\n",
    "    print(\"hello world\")\n",
    "    \n",
    "thread_7 = threading.Thread(target = hello_world)\n",
    "\n",
    "thread_7.start()\n",
    "thread_7.join()\n",
    "\n",
    "print(\"Is thread a live?:-\", thread_7.is_alive())"
   ]
  },
  {
   "cell_type": "code",
   "execution_count": 7,
   "id": "a063bf90-cb88-4f90-9a7c-79a267b0ef80",
   "metadata": {},
   "outputs": [
    {
     "name": "stdout",
     "output_type": "stream",
     "text": [
      "[1, 4, 9, 16, 25, 36, 49, 64, 81, 100]\n",
      "[1, 8, 27, 64, 125, 216, 343, 512, 729, 1000]\n"
     ]
    }
   ],
   "source": [
    "#Answer 4)\n",
    "import threading\n",
    "\n",
    "def list_of_sq(num):\n",
    "    sq_lis = []\n",
    "    for i in range(1, num+1):\n",
    "        sq_lis.append(i*i)\n",
    "    print(sq_lis)\n",
    "\n",
    "def list_cubes(num):\n",
    "    cube_lis = []\n",
    "    for i in range(1, num+1):\n",
    "        cube_lis.append(i*i*i)\n",
    "    print(cube_lis)\n",
    "\n",
    "thread_8 = threading.Thread(target = list_of_sq, args = (10,))\n",
    "thread_9 = threading.Thread(target = list_cubes, args = (10,))\n",
    "\n",
    "thread_8.start()\n",
    "thread_8.join()\n",
    "\n",
    "thread_9.start()\n",
    "thread_9.join()"
   ]
  },
  {
   "cell_type": "markdown",
   "id": "0d5021b7-02a6-4e7b-aac4-86684369df2d",
   "metadata": {},
   "source": [
    "Answer 5)\n",
    "Advantages:-\n",
    "1)Concurrency:- Multithreading allows for concurrent execution\n",
    "of multiple threads , enabling better utilization of CPU \n",
    "resources and potentially improving performance for certain\n",
    "tasks.\n",
    "2)Responsiveness:- Multithreading can enhance the responsiveness\n",
    "of a program by allowing concurrent execution of tasks, \n",
    "preventing one-long task from blocking others.\n",
    "3)Resource sharing:- Threads share the same memory space, \n",
    "making it easier to share data between them compared to \n",
    "seperate processes."
   ]
  },
  {
   "cell_type": "markdown",
   "id": "a58ac4ab-52b4-48b4-b004-00aa505cf51e",
   "metadata": {},
   "source": [
    "Disadvantages:-\n",
    "1)Complexity:- Multithreading introduces complexity due to\n",
    "issues such as race conditions, deadlocks, and thread\n",
    "synchronization. Proper synchronization mechanisms are\n",
    "necessary to avoid these problems.\n",
    "2)Debugging:- Debugging multithreaded applications can be \n",
    "challenging due to the non-deterministic nature of thread \n",
    "execution and the potential for race conditions."
   ]
  },
  {
   "cell_type": "markdown",
   "id": "beccb724-7116-4d81-9283-db148d3d0d71",
   "metadata": {},
   "source": [
    "Answer 6)\n",
    "A deadlock in multithreading occurs when two or more \n",
    "threads are blocked forever, each waiting for the other to\n",
    "release a resource. This situation can happen multiple threads\n",
    "hold some resources and each are trying to acquire additional\n",
    "resources held by others. If not properly managed, this\n",
    "circular waiting can lead to a state where no thread can \n",
    "make progress, resulting in a deadlock.\n",
    "In Python, deadlocks can be avoided by carefully managing the\n",
    "aquisition and release of resources using synschronization\n",
    "mechanisms like locks."
   ]
  },
  {
   "cell_type": "markdown",
   "id": "0b0ffcc5-a2b5-46d7-b83a-7d8487fe9ac4",
   "metadata": {},
   "source": [
    "A race condition arises in multithreading when the \n",
    "behavior of a program depends on the relative timing or \n",
    "interleaving of multiple threads. It occurs when two or more\n",
    "threads attempt to modify shared data concurrently, and\n",
    "the final outcome depends on the order of execution.\n",
    "For example, consider two threads incrementing a shared \n",
    "variable. If the increment operation of not atomic, a race \n",
    "condition may occur if both threads read the variable \n",
    "simultaneously, increment it, and then write it back. The \n",
    "final value might not be what is expected due to the \n",
    "interleaved execution."
   ]
  }
 ],
 "metadata": {
  "kernelspec": {
   "display_name": "Python 3 (ipykernel)",
   "language": "python",
   "name": "python3"
  },
  "language_info": {
   "codemirror_mode": {
    "name": "ipython",
    "version": 3
   },
   "file_extension": ".py",
   "mimetype": "text/x-python",
   "name": "python",
   "nbconvert_exporter": "python",
   "pygments_lexer": "ipython3",
   "version": "3.10.8"
  }
 },
 "nbformat": 4,
 "nbformat_minor": 5
}
