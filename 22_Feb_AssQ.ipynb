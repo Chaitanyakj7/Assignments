{
 "cells": [
  {
   "cell_type": "code",
   "execution_count": 1,
   "id": "cb56c290",
   "metadata": {},
   "outputs": [],
   "source": [
    "#22 feb ass que  Pandas basic\n",
    "import pandas as pd\n",
    "\n",
    "df = pd.read_csv(\"services.csv\")"
   ]
  },
  {
   "cell_type": "code",
   "execution_count": 2,
   "id": "42ca4a44",
   "metadata": {},
   "outputs": [
    {
     "name": "stdout",
     "output_type": "stream",
     "text": [
      "0     4\n",
      "1     8\n",
      "2    15\n",
      "3    16\n",
      "4    23\n",
      "5    42\n",
      "dtype: int64\n"
     ]
    }
   ],
   "source": [
    "#Ans 1\n",
    "series = pd.Series([4, 8, 15, 16, 23, 42])\n",
    "print(series)"
   ]
  },
  {
   "cell_type": "code",
   "execution_count": 7,
   "id": "ca756f61",
   "metadata": {},
   "outputs": [
    {
     "name": "stdout",
     "output_type": "stream",
     "text": [
      "0    0\n",
      "1    1\n",
      "2    2\n",
      "3    3\n",
      "4    4\n",
      "5    5\n",
      "6    6\n",
      "7    7\n",
      "8    8\n",
      "9    9\n",
      "dtype: int64\n"
     ]
    }
   ],
   "source": [
    "#Ans 2\n",
    "lis = [0, 1, 2, 3, 4, 5, 6, 7, 8, 9]\n",
    "print(pd.Series(lis))"
   ]
  },
  {
   "cell_type": "code",
   "execution_count": 4,
   "id": "03770237",
   "metadata": {},
   "outputs": [
    {
     "data": {
      "text/html": [
       "<div>\n",
       "<style scoped>\n",
       "    .dataframe tbody tr th:only-of-type {\n",
       "        vertical-align: middle;\n",
       "    }\n",
       "\n",
       "    .dataframe tbody tr th {\n",
       "        vertical-align: top;\n",
       "    }\n",
       "\n",
       "    .dataframe thead th {\n",
       "        text-align: right;\n",
       "    }\n",
       "</style>\n",
       "<table border=\"1\" class=\"dataframe\">\n",
       "  <thead>\n",
       "    <tr style=\"text-align: right;\">\n",
       "      <th></th>\n",
       "      <th>Name</th>\n",
       "      <th>Age</th>\n",
       "      <th>Gender</th>\n",
       "    </tr>\n",
       "  </thead>\n",
       "  <tbody>\n",
       "    <tr>\n",
       "      <th>0</th>\n",
       "      <td>Alice</td>\n",
       "      <td>25</td>\n",
       "      <td>Female</td>\n",
       "    </tr>\n",
       "    <tr>\n",
       "      <th>1</th>\n",
       "      <td>Bob</td>\n",
       "      <td>30</td>\n",
       "      <td>Male</td>\n",
       "    </tr>\n",
       "    <tr>\n",
       "      <th>2</th>\n",
       "      <td>Claire</td>\n",
       "      <td>27</td>\n",
       "      <td>Female</td>\n",
       "    </tr>\n",
       "  </tbody>\n",
       "</table>\n",
       "</div>"
      ],
      "text/plain": [
       "     Name  Age  Gender\n",
       "0   Alice   25  Female\n",
       "1     Bob   30    Male\n",
       "2  Claire   27  Female"
      ]
     },
     "execution_count": 4,
     "metadata": {},
     "output_type": "execute_result"
    }
   ],
   "source": [
    "#Ans 3\n",
    "import csv\n",
    "\n",
    "fields = ['Name', 'Age', 'Gender']\n",
    "rows = [['Alice', 25, 'Female'], ['Bob', 30, 'Male'], ['Claire', 27, 'Female']]\n",
    "\n",
    "with open(\"22_Feb_AssData.csv\", \"w\") as csvfile:\n",
    "    \n",
    "    csvwriter = csv.writer(csvfile)\n",
    "    csvwriter.writerow(fields)\n",
    "    csvwriter.writerows(rows)\n",
    "    \n",
    "df = pd.read_csv(\"22_Feb_AssData.csv\")\n",
    "\n",
    "df"
   ]
  },
  {
   "cell_type": "code",
   "execution_count": 8,
   "id": "f082ba6b",
   "metadata": {},
   "outputs": [
    {
     "name": "stdout",
     "output_type": "stream",
     "text": [
      "<class 'pandas.core.frame.DataFrame'>\n",
      "<class 'pandas.core.series.Series'>\n"
     ]
    }
   ],
   "source": [
    "#Answer 4)\n",
    "\n",
    "'''DataFrame is a 2-dimensional labeled data structure with columns of potentially different types. We can think of it like a spreadsheet or SQL table, or dict of Series objects.'''\n",
    "\n",
    "'''Pandas Series is one-dimentional labeled array whose object size cannot be changed. It can be considered as a primary building block for a DataFrame, making up its rows and columns.'''\n",
    "\n",
    "'''Series is one-dimensional and DataFrame is two-diemensional. Series elements must be of same type DataFrame elements can have \n",
    "different data types. Once created, the size of a Series object cannot be changed whereas elements can be dropped or added in\n",
    "an existing DataFrame.'''\n",
    "\n",
    "df = pd.read_csv(\"services.csv\")\n",
    "\n",
    "print(type(df))\n",
    "\n",
    "print(type(df['id']))"
   ]
  },
  {
   "cell_type": "markdown",
   "id": "af4b1c07",
   "metadata": {},
   "source": [
    "Answer 5)\n",
    "\n",
    "1)'head()' and 'tail()': \n",
    "These functions allow you to quickly inspect the first or last few rows of your DataFrame, respectively. They are useful for understanding the structure and content of your data.\n",
    "\n",
    "df.head()\n",
    "df.tail()\n",
    "\n",
    "2)'info()':\n",
    "Provides a concise summary of the DataFrame including the datatypes of each column and the number of non-null values.\n",
    "\n",
    "df.info()\n",
    "\n",
    "3)'describe()':\n",
    "Generates descriptive statistics of numerical columns in the DataFrame, such as count, mean, standard deviation, min, max, etc.\n",
    "\n",
    "df.describe()\n",
    "\n",
    "4)'shape':\n",
    "Returns a tuple representing the dimensionality of the DataFrame(number of rows, number columns)\n",
    "\n",
    "df.shape\n",
    "\n",
    "5)'columns':\n",
    "Returns the column labels of the DataFrame.\n",
    "\n",
    "df.columns\n",
    "\n",
    "6)'drop()':\n",
    "Allows you to drop specified rows or columns from the DataFrame.\n",
    "\n",
    "df.drop(columns = ['column_name'])\n",
    "\n",
    "7)'fillna()':\n",
    "Fill missing values in the DataFrame with specified values.\n",
    "\n",
    "df.fillna(0)\n",
    "\n",
    "8)'groupby()':\n",
    "Used to split the DataFrame into groups based on some criteria, and then apply a function to each group.\n",
    "\n",
    "df.groupby('column_name').mean()\n",
    "\n",
    "9)'sort_values()':\n",
    "Sort the DataFrame by the values of one or more columns.\n",
    "\n",
    "df.sort_values(by = 'column_name', ascending = False)\n",
    "\n",
    "10)'merge()':\n",
    "combines two DataFrames absed on a common column.\n",
    "\n",
    "merged_df = pd.merge(df1, df2, on = 'common_column')"
   ]
  },
  {
   "cell_type": "markdown",
   "id": "4e75444a",
   "metadata": {},
   "source": [
    "Answer 6)\n",
    "\n",
    "In Pandas, a Series is mutable, while a DataFrame and a Panel are immutable."
   ]
  },
  {
   "cell_type": "code",
   "execution_count": 13,
   "id": "31b27716",
   "metadata": {},
   "outputs": [
    {
     "data": {
      "text/html": [
       "<div>\n",
       "<style scoped>\n",
       "    .dataframe tbody tr th:only-of-type {\n",
       "        vertical-align: middle;\n",
       "    }\n",
       "\n",
       "    .dataframe tbody tr th {\n",
       "        vertical-align: top;\n",
       "    }\n",
       "\n",
       "    .dataframe thead th {\n",
       "        text-align: right;\n",
       "    }\n",
       "</style>\n",
       "<table border=\"1\" class=\"dataframe\">\n",
       "  <thead>\n",
       "    <tr style=\"text-align: right;\">\n",
       "      <th></th>\n",
       "      <th>Roll No</th>\n",
       "      <th>Names</th>\n",
       "      <th>Marks</th>\n",
       "      <th>Address</th>\n",
       "    </tr>\n",
       "  </thead>\n",
       "  <tbody>\n",
       "    <tr>\n",
       "      <th>0</th>\n",
       "      <td>11</td>\n",
       "      <td>Prasad</td>\n",
       "      <td>100</td>\n",
       "      <td>Pune</td>\n",
       "    </tr>\n",
       "    <tr>\n",
       "      <th>1</th>\n",
       "      <td>12</td>\n",
       "      <td>Shriraj</td>\n",
       "      <td>100</td>\n",
       "      <td>Wai</td>\n",
       "    </tr>\n",
       "    <tr>\n",
       "      <th>2</th>\n",
       "      <td>13</td>\n",
       "      <td>Ravi</td>\n",
       "      <td>100</td>\n",
       "      <td>Mumbai</td>\n",
       "    </tr>\n",
       "    <tr>\n",
       "      <th>3</th>\n",
       "      <td>14</td>\n",
       "      <td>Sachin</td>\n",
       "      <td>100</td>\n",
       "      <td>Banglore</td>\n",
       "    </tr>\n",
       "    <tr>\n",
       "      <th>4</th>\n",
       "      <td>15</td>\n",
       "      <td>Sanchit</td>\n",
       "      <td>100</td>\n",
       "      <td>Pune</td>\n",
       "    </tr>\n",
       "  </tbody>\n",
       "</table>\n",
       "</div>"
      ],
      "text/plain": [
       "   Roll No    Names  Marks   Address\n",
       "0       11   Prasad    100      Pune\n",
       "1       12  Shriraj    100       Wai\n",
       "2       13     Ravi    100    Mumbai\n",
       "3       14   Sachin    100  Banglore\n",
       "4       15  Sanchit    100      Pune"
      ]
     },
     "execution_count": 13,
     "metadata": {},
     "output_type": "execute_result"
    }
   ],
   "source": [
    "series_1 = pd.Series([11, 12, 13, 14, 15])\n",
    "series_2 = pd.Series([\"Prasad\", \"Shriraj\", \"Ravi\", \"Sachin\", \"Sanchit\"])\n",
    "series_3 = pd.Series([100, 100, 100, 100, 100])\n",
    "series_4 = pd.Series([\"Pune\", \"Wai\", \"Mumbai\", \"Banglore\", \"Pune\"])\n",
    "\n",
    "data_frame = {\"Roll No\":series_1, \"Names\":series_2, \"Marks\":series_3, \"Address\":series_4}\n",
    "\n",
    "df = pd.DataFrame(data_frame)\n",
    "\n",
    "df"
   ]
  },
  {
   "cell_type": "code",
   "execution_count": null,
   "id": "d62ca5c0",
   "metadata": {},
   "outputs": [],
   "source": []
  }
 ],
 "metadata": {
  "kernelspec": {
   "display_name": "Python 3 (ipykernel)",
   "language": "python",
   "name": "python3"
  },
  "language_info": {
   "codemirror_mode": {
    "name": "ipython",
    "version": 3
   },
   "file_extension": ".py",
   "mimetype": "text/x-python",
   "name": "python",
   "nbconvert_exporter": "python",
   "pygments_lexer": "ipython3",
   "version": "3.11.5"
  }
 },
 "nbformat": 4,
 "nbformat_minor": 5
}
