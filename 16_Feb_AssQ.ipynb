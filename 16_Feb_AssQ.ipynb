{
 "cells": [
  {
   "cell_type": "code",
   "execution_count": null,
   "id": "6683c16f-0c7e-4f00-a49e-606dbe07c7d9",
   "metadata": {},
   "outputs": [],
   "source": [
    "#Answer 1)\n",
    "'''A database is a organized collection of data or a type of data data store based on the use of a database management \n",
    "system, the software that interacts with end users, applications, and the database itself to capture and analyze\n",
    "the data.\n",
    "\n",
    "SQL databases are relational, NoSQL databases are non-relational.\n",
    "SQL databases use structured query language(SQL) and have a predefined schema. NoSQL databases have dynamic schemas\n",
    "for unstructured data.\n",
    "SQL databases are vertically scalable, while NoSQL databases are horizontally scalable.\n",
    "SQL databases are table-based, while NoSQL databases are document, key-value, graph, or wide-column stores.\n",
    "SQL databases are better for multi-row transactions, while NoSQL is better for unstructured data like documents\n",
    "or JSON.'''"
   ]
  },
  {
   "cell_type": "code",
   "execution_count": null,
   "id": "cc65a3d9-2055-48d4-9f71-8a89023153a5",
   "metadata": {},
   "outputs": [],
   "source": [
    "#Answer 2)\n",
    "'''Data definition or description language is a syntax for creating and modifying database objects such as tables, \n",
    "indices, and users. DDL statements are similar to computer programming language for defining data structures,\n",
    "especially database schemas.\n",
    "\n",
    "CREATE TABLE command creates a new table in the database.\n",
    "\n",
    "CREATE TABLE stud_info(name varchar(20), roll_no int, marks float);\n",
    "\n",
    "ALTER TABLE command adds, deletes, or modifies columns in a table.\n",
    "\n",
    "ALTER TABLE stud_info ADD address varchar(30);\n",
    "\n",
    "DROP TABLE command deletes a table in the database.\n",
    "\n",
    "DROP TABLE stud_info;\n",
    "\n",
    "TRUNCATE TABLE command deletes the data inside a table, but not the table itself.\n",
    "\n",
    "TRUNCATE TABLE stud_info;'''"
   ]
  },
  {
   "cell_type": "code",
   "execution_count": null,
   "id": "44d677f2-bd04-486a-a89b-3e8f9a3c9784",
   "metadata": {},
   "outputs": [],
   "source": [
    "#Answer 3)\n",
    "'''A data manipulation language(DML) is a computer programming language used for adding, deleting, and modifying\n",
    "data in a database. A DML is often a sublanguage of a broader database language such as SQL, with the DML \n",
    "comprising some of the operators in the language.\n",
    "\n",
    "INSERT statement used to insert data into the columns of the database.\n",
    "\n",
    "INSERT INTO stud_info VALUES (\"Raj\", 23, 85.78);\n",
    "\n",
    "UPDATE statement is used to update of modify the existing data in database tables.\n",
    "\n",
    "UPDATE stud_info SET roll_no = 39 where name = \"Raj\";\n",
    "\n",
    "DELETE statement is used to remove single or multiple existing records from the database tables.\n",
    "\n",
    "DELETE FROM stud_info where roll_no = 39;'''"
   ]
  },
  {
   "cell_type": "code",
   "execution_count": null,
   "id": "fbc61c50-8db3-47a2-b016-6764158124a5",
   "metadata": {},
   "outputs": [],
   "source": [
    "#Answer 4)\n",
    "'''Data query language(DQL) statements are used for performing queries on the data within schema objects. The purpose\n",
    "of the DQL command is to get some schema relation based on the query passed to it. DQL is a component of SQL \n",
    "statement that allows getting data from the database and imposing order upon it. It includes the SELECT statement. \n",
    "This command allows getting the data out of the database to perform operations with it.\n",
    "\n",
    "SELECT name FROM stud_info WHERE roll_no = 39;'''"
   ]
  },
  {
   "cell_type": "code",
   "execution_count": null,
   "id": "390e5c0c-af31-488a-acc2-db8e5cd6479f",
   "metadata": {},
   "outputs": [],
   "source": [
    "#Answer 5)\n",
    "'''A primary key is used to ensure that data in the specific column is unique.\n",
    "A foreign key is a column or group of columns in a relational database table that provides a link between data in\n",
    "two tables. It is a column(s) that that references a column (most often the primary key) of another table.'''"
   ]
  },
  {
   "cell_type": "code",
   "execution_count": null,
   "id": "d1528aad-8064-4db1-a349-83e894efd490",
   "metadata": {},
   "outputs": [],
   "source": [
    "#Answer 6)\n",
    "'''import mysql.connector\n",
    "\n",
    "mydb = mysql.connector.connect(host = \"localhost\", username = \"root\", password = \"pass\")\n",
    "\n",
    "mycursor = mydb.cursor()\n",
    "\n",
    "The MySQLCursor class instantiates objects that can execute opearations such as SQL statements. Cursor objects \n",
    "interacts with the MySQL server using a MySQLConnection object.\n",
    "\n",
    "MySQLCursorexecute method executes the given database opration.'''"
   ]
  },
  {
   "cell_type": "code",
   "execution_count": null,
   "id": "6c404d47-9258-473c-9d74-5f515d6ec2d1",
   "metadata": {},
   "outputs": [],
   "source": [
    "#Answer 7)\n",
    "'''The order of execution of SQL Query optimizes the query, reduces the amount of data to be processed, and affects\n",
    "the performance of the Query processing significantly. The order makes the SQL engine process the queries faster,\n",
    "and efficiently, and obtains optimized query results.\n",
    "\n",
    "1)First, the table on which the DML operation is performed has to be processed. So, the FROM clause evaluated first in\n",
    "an SQL Query. If the query contains JOIN clauses, tables are combined by merging rows involved, before FROM clause.\n",
    "So, JOIN predates FROM in statements with JOIN. Now table is aquired before any filter is done. \n",
    "\n",
    "2)WHERE: After the table data on which other operations take place is processed by JOIN and FROM clause, WHERE clause\n",
    "is evaluated. WHERE clause filters the rows based on conditions from the table evaluated by the FROM clause. This \n",
    "WHERE clause discards rows that don't satisfy the conditions, thus reducing the rows of data that need to be processed\n",
    "further in other clauses.\n",
    "\n",
    "3)GROUP BY: If the query has the GROUP BY clause, it is executed next. Here, the data is grouped based on the common\n",
    "value in the column specified in the GROUP BY clause. This reduces the number of rows further equal to no of distinct\n",
    "values in the GROUP BY column. This helps to calculate aggregate functions.\n",
    "\n",
    "4)HAVING: If the query had a GROUP BY clause, the HAVING clause is evaluated immediately after GROUP BY. HAVING clause\n",
    "is not compulsory for GROUP BY. Similar the WHERE operations, this clause also filters the table group processed before\n",
    "by the GROUP BY clause. This HAVING also discards the rows that don't satisfy the conditions, thus reducing the rows of\n",
    "data that need to be processed in other clauses.\n",
    "\n",
    "5)SELECT: The SELECT is executed next after GROUP BY and HAVING. It computes expressions (arithmetic, aggregate, etc)\n",
    "and aliases given in the SELECT clause. The computation is now performed on the smallest dataset after much filtering\n",
    "and grouping operations done by previous clauses.\n",
    "\n",
    "6)DISTINCT: The DISTINCT clause is executed after evaluating expressions, and alias references in the previous step.\n",
    "It filters any duplicate rows and returns only unique rows.\n",
    "\n",
    "7)ORDER BY: After executing all the above clauses, the data to be displayed or processed is computed. Now ORDER BY is\n",
    "executed to sort it based on particular column(s) either in ascending or descending order. It is left associative\n",
    ", that is it is sorted based on the first specified column and then by the second and so on.\n",
    "\n",
    "8)LIMIT/OFFSET: At last, after the order of data to be processed is evaluated, LIMIT and OFFSET clauses are evaluated\n",
    "to display only the rows that fall within the LIMIT. So, it is generally not recommended to LIMIT only certain rows\n",
    "from many rows evaluated before, since it is not efficient and waste of computation.'''"
   ]
  }
 ],
 "metadata": {
  "kernelspec": {
   "display_name": "Python 3 (ipykernel)",
   "language": "python",
   "name": "python3"
  },
  "language_info": {
   "codemirror_mode": {
    "name": "ipython",
    "version": 3
   },
   "file_extension": ".py",
   "mimetype": "text/x-python",
   "name": "python",
   "nbconvert_exporter": "python",
   "pygments_lexer": "ipython3",
   "version": "3.10.8"
  }
 },
 "nbformat": 4,
 "nbformat_minor": 5
}
