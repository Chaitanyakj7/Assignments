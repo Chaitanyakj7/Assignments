{
 "cells": [
  {
   "cell_type": "markdown",
   "id": "da8faf38-00e8-4296-b6e5-5207bfa13fad",
   "metadata": {},
   "source": [
    "Q.1) You are writting code for a company. The requirement of the company is that you create a python \n",
    "function that will check whether the password entered by the user is correct or not. The function should \n",
    "take the password as input and return the string \"Valid Password\" if the entered passoword follows the below-given password guidelines else it should return \"Invalid Passowrd\"."
   ]
  },
  {
   "cell_type": "code",
   "execution_count": 1,
   "id": "04261c11-5577-4b55-bf8b-cc4f9c88b86a",
   "metadata": {},
   "outputs": [
    {
     "data": {
      "text/plain": [
       "'Valid Password'"
      ]
     },
     "execution_count": 1,
     "metadata": {},
     "output_type": "execute_result"
    }
   ],
   "source": [
    "#The Password\n",
    "\n",
    "def is_valid_psw(psw):\n",
    "    \n",
    "    characters = ['!', '@', '#', '$', '%', '^', '&', '*', '(', ')', '`', '~', '=', '+', '-', '_', '/', '*', '[', '{', ']', '}', '|', ':', ';', '\"', \"'\", ',', '<', '.', '>', '/', '?']\n",
    "    num_list = ['1', '2', '3', '4', '5', '6', '7', '8', '9', '0']\n",
    "    \n",
    "    upper = 0\n",
    "    lower = 0\n",
    "    numbers = 0\n",
    "    spl_ch = 0\n",
    "    length = len(psw)\n",
    "\n",
    "    for i in psw:\n",
    "        if i.isupper():\n",
    "            upper = upper + 1\n",
    "            \n",
    "        if i.islower():\n",
    "            lower = lower + 1\n",
    "        \n",
    "        if i in characters:\n",
    "            spl_ch = spl_ch + 1\n",
    "            \n",
    "        if i in num_list:\n",
    "            numbers = numbers + 1\n",
    "            \n",
    "    if lower>=2 and upper>=2 and numbers>=1 and spl_ch == 3 and length == 10:\n",
    "        return \"Valid Password\"\n",
    "    else:\n",
    "        return \"Invalid Password\"\n",
    "    \n",
    "input_psw = \"@chAI1!&fG\"\n",
    "\n",
    "is_valid_psw(input_psw)"
   ]
  },
  {
   "cell_type": "markdown",
   "id": "bea0003d-3364-4915-8b44-ecd419e6614d",
   "metadata": {},
   "source": [
    "Q.2) Solve the below-given questions using at least one of the following:\n",
    "1) Lambda function\n",
    "2) Filter function\n",
    "3) Map function\n",
    "4) List Comprehension"
   ]
  },
  {
   "cell_type": "code",
   "execution_count": 2,
   "id": "c2229c68-3f90-4510-8eaa-c60f17b2ba9b",
   "metadata": {},
   "outputs": [
    {
     "name": "stdout",
     "output_type": "stream",
     "text": [
      "It starts with g\n",
      "\n",
      "\n",
      "False\n",
      "\n",
      "\n",
      "[('orange', 80), ('mango', 99), ('grapes', 1000)]\n",
      "[('grapes', 1000), ('mango', 99), ('orange', 80)]\n",
      "\n",
      "\n",
      "Even\n",
      "\n",
      "\n",
      "[1.0, 1.2599210498948732, 1.4422495703074083, 1.5874010519681994, 1.7099759466766968, 1.8171205928321397, 1.912931182772389, 2.0, 2.080083823051904, 2.154434690031884]\n",
      "\n",
      "\n",
      "[1.0, 1.4142135623730951, 1.7320508075688772, 2.0, 2.23606797749979, 2.449489742783178, 2.6457513110645907, 2.8284271247461903, 3.0, 3.1622776601683795]\n",
      "\n",
      "\n",
      "[1, 2, 3, 4, 5, 6]\n",
      "[-1, -2, -3, -4, -5]\n",
      "\n",
      "\n",
      "[1, 3, 5, 7, 9]\n",
      "\n",
      "\n"
     ]
    }
   ],
   "source": [
    "#Check if the string starts with a particular letter\n",
    "\n",
    "string2 = \"google\"\n",
    "\n",
    "letter = lambda x : print(\"It starts with g\") if x[0] == 'g' else print(\"It does not start with g\")\n",
    "\n",
    "letter(string2)\n",
    "print(\"\\n\")\n",
    "\n",
    "#Check if the string is numeric\n",
    "\n",
    "string = \"123abc\"\n",
    "\n",
    "is_numeric = lambda x : x.isnumeric()\n",
    "\n",
    "print(is_numeric(string))\n",
    "print(\"\\n\")\n",
    "\n",
    "#Sort a list of tuples having fruit names and their quantity\n",
    "\n",
    "lis3 = [(\"mango\", 99), (\"orange\", 80), (\"grapes\", 1000)]\n",
    "\n",
    "according_to_names = lambda x : sorted(x)\n",
    "according_to_quantity = lambda x : sorted(x, key = lambda x : x[1])\n",
    "\n",
    "print(according_to_quantity(lis3))\n",
    "print(according_to_names(lis3))\n",
    "print(\"\\n\")\n",
    "\n",
    "#Check if a given number is even\n",
    "\n",
    "num = 10\n",
    "\n",
    "result = lambda a : print(\"Even\") if a % 2==0 else print(\"Odd\")\n",
    "result(num)\n",
    "print(\"\\n\")\n",
    "\n",
    "#Find cube root of numbers from 1 to 10\n",
    "\n",
    "numbers = [1, 2, 3, 4, 5, 6, 7, 8, 9, 10]\n",
    "\n",
    "cube_roots = list(map(lambda a : a**(1/3), numbers))\n",
    "print(cube_roots)\n",
    "print(\"\\n\")\n",
    "\n",
    "#Find squares of numbers from 1 to 10\n",
    "\n",
    "numbers2 = [1, 2, 3, 4, 5, 6, 7, 8, 9, 10]\n",
    "\n",
    "square_roots = [x**(1/2) for x in range(1, 11)]\n",
    "print(square_roots)\n",
    "print(\"\\n\")\n",
    "\n",
    "#Sort a list of integers into positive and negative integers lists\n",
    "\n",
    "lis = [1, 2, 3, 4, 5, 6, -1, -2, -3, -4, -5, 0]\n",
    "\n",
    "negative = list(filter(lambda a : a < 0, lis))\n",
    "positive = list(filter(lambda a : a > 0, lis))\n",
    "\n",
    "print(positive)\n",
    "print(negative)\n",
    "print(\"\\n\")\n",
    "\n",
    "#Find odd numbers from the given list\n",
    "\n",
    "lis2 = [1, 2, 3, 4, 5, 6, 7, 8, 9, 10]\n",
    "\n",
    "odd = list(filter(lambda a : a % 2 != 0, lis2))\n",
    "print(odd)\n",
    "print(\"\\n\")"
   ]
  }
 ],
 "metadata": {
  "kernelspec": {
   "display_name": "Python 3 (ipykernel)",
   "language": "python",
   "name": "python3"
  },
  "language_info": {
   "codemirror_mode": {
    "name": "ipython",
    "version": 3
   },
   "file_extension": ".py",
   "mimetype": "text/x-python",
   "name": "python",
   "nbconvert_exporter": "python",
   "pygments_lexer": "ipython3",
   "version": "3.10.8"
  }
 },
 "nbformat": 4,
 "nbformat_minor": 5
}
