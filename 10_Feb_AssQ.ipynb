{
 "cells": [
  {
   "cell_type": "markdown",
   "id": "b09d3b8a-d74c-4f88-84ca-672bcd6bffeb",
   "metadata": {},
   "source": [
    "Answer 1) open() function is used to open a file in Python. Syntax:\n",
    " f = open(filename, mode).\n",
    " Mode represents the purpose of the opening file.\n",
    " 1)r: open an existing file for read operation\n",
    " 2)w: open an existing file for write operation. If the file\n",
    "    already contains some data then it will be overridden but \n",
    "    if the file is not present the it creates the new file.\n",
    " 3)a: open an existing file for append operation. It won't \n",
    "    override existing data.\n",
    " 4)r+: to read and write data into the file. The previous data \n",
    "    in the file will be overriden\n",
    " 5)w+: to write and read data. It will override existing data.\n",
    " 6)a+: to append and read data from the file. It won't override\n",
    "    exisitng data."
   ]
  },
  {
   "cell_type": "markdown",
   "id": "efa9c4de-c31d-43af-92da-1fa6c49b27ce",
   "metadata": {},
   "source": [
    "Answer 2) close() function closes the file and frees the memmory space\n",
    "aquired by that file. It is used at the time when the file is \n",
    "no longer needed or if it is to be opened in a different mode."
   ]
  },
  {
   "cell_type": "code",
   "execution_count": 1,
   "id": "2df62734-b588-4e45-86a5-15c5db9b6aaa",
   "metadata": {},
   "outputs": [
    {
     "name": "stdout",
     "output_type": "stream",
     "text": [
      "I want to become a Data Scientist.\n"
     ]
    }
   ],
   "source": [
    "#Answer 3)\n",
    "\n",
    "file = open(\"text10.txt\", \"w\")\n",
    "\n",
    "file.write(\"I want to become a Data Scientist.\")\n",
    "\n",
    "file.close()\n",
    "\n",
    "file = open(\"text10.txt\", \"r\")\n",
    "\n",
    "print(file.read())\n",
    "\n",
    "file.close()"
   ]
  },
  {
   "cell_type": "markdown",
   "id": "665554e9-af7f-4a63-b7a9-43cbee6a72d6",
   "metadata": {},
   "source": [
    "Answer 4) read(): Returns the read bytes in form of a string. Reads\n",
    "n bytes, if no n specified, reads the entire file. Syntax:\n",
    " file_obj.read([n])\n",
    "  \n",
    "  readline(): Reads a line of the file and returns in form of\n",
    "  a string. For specified n, reads at most n bytes. However, \n",
    "  does not read more than one line, even if n exceeds the\n",
    "  length of the line.\n",
    "  \n",
    "  readlines(): Reads all the lines and return them as each\n",
    "  line a string element in a list."
   ]
  },
  {
   "cell_type": "code",
   "execution_count": 2,
   "id": "ec0492cc-70af-4f77-9231-af369604a7e6",
   "metadata": {},
   "outputs": [
    {
     "name": "stdout",
     "output_type": "stream",
     "text": [
      "read():- \n",
      "Hello\n",
      "My name is Rohan.\n",
      "I am from Mumbai.\n",
      "I love math.\n",
      "\n",
      "\n",
      "\n",
      "read(10):- \n",
      "Hello\n",
      "My n\n",
      "\n",
      "\n",
      "readline():- \n",
      "Hello\n",
      "\n",
      "\n",
      "\n",
      "readline(10):- \n",
      "Hello\n",
      "\n",
      "\n",
      "\n",
      "['Hello\\n', 'My name is Rohan.\\n', 'I am from Mumbai.\\n', 'I love math.\\n']\n"
     ]
    }
   ],
   "source": [
    "file1 = open(\"myfile.txt\", \"w\")\n",
    "\n",
    "lis = ['My name is Rohan.\\n', 'I am from Mumbai.\\n', 'I love math.\\n']\n",
    "\n",
    "file1.write(\"Hello\\n\")\n",
    "file1.writelines(lis)\n",
    "\n",
    "file1.close()\n",
    "\n",
    "file1 = open(\"myfile.txt\", \"r\")\n",
    "\n",
    "print(\"read():- \")\n",
    "print(file1.read())\n",
    "\n",
    "print(\"\\n\")\n",
    "\n",
    "file1.seek(0)\n",
    "\n",
    "print(\"read(10):- \")\n",
    "print(file1.read(10))\n",
    "\n",
    "print(\"\\n\")\n",
    "\n",
    "file1.seek(0)\n",
    "print(\"readline():- \")\n",
    "print(file1.readline())\n",
    "\n",
    "print(\"\\n\")\n",
    "\n",
    "file1.seek(0)\n",
    "print(\"readline(10):- \")\n",
    "print(file1.readline(20))\n",
    "\n",
    "print(\"\\n\")\n",
    "\n",
    "file1.seek(0)\n",
    "print(file1.readlines())"
   ]
  },
  {
   "cell_type": "markdown",
   "id": "a4273ed1-a261-4612-8e5d-3c604174231a",
   "metadata": {},
   "source": [
    "Answer 5) The open() function is generally used for file handling \n",
    "in Python. But it is a standard practice to use context \n",
    "managers like with keywords to handle files as it will \n",
    "automatically release files once its usage is complete."
   ]
  },
  {
   "cell_type": "code",
   "execution_count": 3,
   "id": "2f2c86ff-2bfc-4588-83be-d778074ebf3e",
   "metadata": {},
   "outputs": [
    {
     "name": "stdout",
     "output_type": "stream",
     "text": [
      "Hello\n",
      "My name is Rohan.\n",
      "I am from Mumbai.\n",
      "I love math.\n",
      "\n",
      "Hello\n",
      "My name is Rohan.\n",
      "I am from Mumbai.\n",
      "I love math.\n",
      "I want to become Data Scientist.\n",
      "\n"
     ]
    }
   ],
   "source": [
    "#with statement to read data from file\n",
    "with open(\"myfile.txt\", \"r\") as x:\n",
    "    file_data = x.read()\n",
    "    print(file_data)\n",
    "\n",
    "#with statement to write/append data into file\n",
    "with open(\"myfile.txt\", \"a\") as y:\n",
    "    y.write(\"I want to become Data Scientist.\\n\")\n",
    "\n",
    "with open(\"myfile.txt\", \"r\") as r:\n",
    "    print(r.read())"
   ]
  },
  {
   "cell_type": "markdown",
   "id": "d68cd804-35ba-4f1a-bdba-a39574b7ae83",
   "metadata": {},
   "source": [
    "While using open() we need to explicitly close an opened\n",
    "file instance, else other parts of code may face errors while \n",
    "opening the same file. In with open() the closing of the file \n",
    "is handled by the context manager.\n",
    "\n",
    "  Using with open() context statements makes the code more tidy\n",
    "as we can easily seperate between code block by difference in\n",
    "indents. In case of open(), we might miss closing the file\n",
    "instance, this may cause memory leaks and other I/O operation\n",
    "errors."
   ]
  },
  {
   "cell_type": "markdown",
   "id": "63078961-343a-40f4-86c8-ff99582a3f35",
   "metadata": {},
   "source": [
    "Answer 6) The write() function will write the content in the file \n",
    "without adding any extra characters.\n",
    "Syntax:- file_name.write(content)\n",
    "The string that is passed to the write() function is written\n",
    "into the file. The string may include numbers, special characters\n",
    ", or symbols. write() function does not ass ad new line\n",
    "character(\\n) to the end of the string. The write() function\n",
    "returns None.'''\n",
    "\n",
    "'''The writelines() function writes the content of a list to\n",
    "a file.\n",
    "Syntax:- file_name.writelines(list_of_lines)\n",
    "The list of strings that is passed to the writelines() function\n",
    "is written into the opened file. The writelines() function\n",
    "does not add a newline character(\\n) to the end of the string."
   ]
  }
 ],
 "metadata": {
  "kernelspec": {
   "display_name": "Python 3 (ipykernel)",
   "language": "python",
   "name": "python3"
  },
  "language_info": {
   "codemirror_mode": {
    "name": "ipython",
    "version": 3
   },
   "file_extension": ".py",
   "mimetype": "text/x-python",
   "name": "python",
   "nbconvert_exporter": "python",
   "pygments_lexer": "ipython3",
   "version": "3.10.8"
  }
 },
 "nbformat": 4,
 "nbformat_minor": 5
}
