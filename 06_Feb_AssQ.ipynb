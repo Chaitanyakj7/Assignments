{
 "cells": [
  {
   "cell_type": "markdown",
   "id": "fb6246ef-df61-454e-9f7f-8b206f4ce3c3",
   "metadata": {},
   "source": [
    "Q.1) Create a function which will take a list as an argument and return the product of all the numbers \n",
    "after creating a flat list.\n",
    "Use the below-given list as an argument for your function.\n",
    "list1 = [1, 2, 3, 4, [44, 55, 66, True], False, (34, 56, 78, 89, 34), {1, 2, 3, 3, 2, 1}, {1:34, \"key2\":[55, 67, 78, 89], 4:(45, 22, 61, 34)}, [56, 'data science'], 'machine learning']"
   ]
  },
  {
   "cell_type": "code",
   "execution_count": 1,
   "id": "32ecd4c6-0558-4317-8b92-64409d4567c5",
   "metadata": {},
   "outputs": [
    {
     "name": "stdout",
     "output_type": "stream",
     "text": [
      "4134711838987085478833841242112000\n"
     ]
    }
   ],
   "source": [
    "def product_lis(li):\n",
    "    lis = []\n",
    "\n",
    "    for i in list1:\n",
    "        if type(i) == int:\n",
    "            lis.append(i)\n",
    "        elif type(i) == list:\n",
    "            for j in i:\n",
    "                if type(j) == int:\n",
    "                    lis.append(j)\n",
    "        elif type(i) == tuple:\n",
    "            for k in i:\n",
    "                if type(k) == int:\n",
    "                    lis.append(k)\n",
    "        elif type(i) == set:\n",
    "            for l in i:\n",
    "                if type(l) == int:\n",
    "                    lis.append(l)\n",
    "        elif type(i) == dict:\n",
    "            key = i.keys()\n",
    "            value = i.values()\n",
    "            \n",
    "            for m in key:\n",
    "                if type(m) == int:\n",
    "                    lis.append(m)\n",
    "            for n in value:\n",
    "                if type(n) == int:\n",
    "                    lis.append(n)\n",
    "                    \n",
    "                if type(n) == list:\n",
    "                    for f in n:\n",
    "                        if type(f) == int:\n",
    "                            lis.append(f)\n",
    "                            \n",
    "                if type(n) == tuple:\n",
    "                    for h in n:\n",
    "                        if type(h) == int:\n",
    "                            lis.append(h)\n",
    "                            \n",
    "                if type(n) == set:\n",
    "                    for o in n:\n",
    "                        if type(o) == int:\n",
    "                            lis.append(o)\n",
    "    \n",
    "    #print(lis)\n",
    "    result = 1\n",
    "    for i in lis:\n",
    "        result = result * i\n",
    "        \n",
    "    return result\n",
    "    \n",
    "    \n",
    "list1 = [1, 2, 3, 4, [44, 55, 66, True], False, (34, 56, 78, 89, 34), {1, 2, 3, 3, 2, 1}, {1:34, \"key2\":[55, 67, 78, 89], 4:(45, 22, 61, 34)}, [56, 'data science'], 'machine learning'] \n",
    "\n",
    "answer = product_lis(list1)\n",
    "\n",
    "print(answer)"
   ]
  },
  {
   "cell_type": "markdown",
   "id": "2fc138f8-1076-4cd0-bb93-37b392f66c15",
   "metadata": {},
   "source": [
    "Q.2) Write a python program for encrypting a message sent to you by your friend. The logic of encryption should be such that, for a the output should be z. For b, the output should be y. For c, the output should be\n",
    "x respectively. Also, the whitespaces should be replaced with a dollar sign. Keep the punctuation marks \n",
    "unchanged.\n",
    "Input sentence:- I want to become a Data Scientist."
   ]
  },
  {
   "cell_type": "code",
   "execution_count": 3,
   "id": "140189ff-e08e-4d4a-981a-2579654076a0",
   "metadata": {},
   "outputs": [
    {
     "name": "stdout",
     "output_type": "stream",
     "text": [
      "r$wznt$to$yvxonv$z$wztz$sxrvntrst\n"
     ]
    }
   ],
   "source": [
    "sentence = \"I want to become a Data Scientist\"\n",
    "\n",
    "s = list(\"\".join(sentence).lower())\n",
    "\n",
    "alpha_dict = {'a':'z', 'b':'y', 'c':'x', 'd':'w', 'e':'v', 'f':'u', 'g':'t', 'h':'s', 'i':'r', 'j':'q', 'k':'p', 'l':'o', 'm':'n', ' ':'$'}\n",
    "\n",
    "key = alpha_dict.keys()\n",
    "\n",
    "for i in range(len(s)):\n",
    "    if s[i] in key:\n",
    "        s[i] = alpha_dict[s[i]]\n",
    "        \n",
    "print(str(\"\".join(s)))"
   ]
  }
 ],
 "metadata": {
  "kernelspec": {
   "display_name": "Python 3 (ipykernel)",
   "language": "python",
   "name": "python3"
  },
  "language_info": {
   "codemirror_mode": {
    "name": "ipython",
    "version": 3
   },
   "file_extension": ".py",
   "mimetype": "text/x-python",
   "name": "python",
   "nbconvert_exporter": "python",
   "pygments_lexer": "ipython3",
   "version": "3.10.8"
  }
 },
 "nbformat": 4,
 "nbformat_minor": 5
}
