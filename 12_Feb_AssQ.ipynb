{
 "cells": [
  {
   "cell_type": "markdown",
   "id": "de6e9228-a8d0-4669-92af-a75a376ad065",
   "metadata": {},
   "source": [
    "Answer 1) When we try to execute a block of code which is syntactically\n",
    "correct, errors detected during execution are called exceptions\n",
    "\n",
    "Exception is a condition which occurs even if the program is \n",
    "syntactically correct in which user wants to execute something\n",
    "that is immpossible or against rules. Syntax error is an issue\n",
    "in a program which occurs because of the mistakes made in writing\n",
    "the program"
   ]
  },
  {
   "cell_type": "markdown",
   "id": "09e314e3-eeaf-4973-83ad-76ad11639b64",
   "metadata": {},
   "source": [
    "Answer 2) If the exception is not handled with the help of except block\n",
    "then the exception is re-raise whenever we will try to execute\n",
    "the code."
   ]
  },
  {
   "cell_type": "code",
   "execution_count": 1,
   "id": "c06ad941-7ef2-40b9-b21a-338f55c8ebf5",
   "metadata": {},
   "outputs": [
    {
     "name": "stdout",
     "output_type": "stream",
     "text": [
      "Hello\n"
     ]
    },
    {
     "ename": "ZeroDivisionError",
     "evalue": "division by zero",
     "output_type": "error",
     "traceback": [
      "\u001b[0;31m---------------------------------------------------------------------------\u001b[0m",
      "\u001b[0;31mZeroDivisionError\u001b[0m                         Traceback (most recent call last)",
      "Cell \u001b[0;32mIn[1], line 2\u001b[0m\n\u001b[1;32m      1\u001b[0m \u001b[38;5;28;01mtry\u001b[39;00m:\n\u001b[0;32m----> 2\u001b[0m     \u001b[38;5;28mprint\u001b[39m(\u001b[38;5;241;43m10\u001b[39;49m\u001b[38;5;241;43m/\u001b[39;49m\u001b[38;5;241;43m0\u001b[39;49m)\n\u001b[1;32m      3\u001b[0m \u001b[38;5;28;01mfinally\u001b[39;00m:\n\u001b[1;32m      4\u001b[0m     \u001b[38;5;28mprint\u001b[39m(\u001b[38;5;124m\"\u001b[39m\u001b[38;5;124mHello\u001b[39m\u001b[38;5;124m\"\u001b[39m)\n",
      "\u001b[0;31mZeroDivisionError\u001b[0m: division by zero"
     ]
    }
   ],
   "source": [
    "try:\n",
    "    print(10/0)\n",
    "finally:\n",
    "    print(\"Hello\")"
   ]
  },
  {
   "cell_type": "markdown",
   "id": "adb5c0ad-d80d-4497-94ce-21a9b6aee76a",
   "metadata": {},
   "source": [
    "Answer 3) In Python try and except blocks are used to catch and\n",
    "handle exceptions."
   ]
  },
  {
   "cell_type": "code",
   "execution_count": 2,
   "id": "a273ab03-54c1-4ab9-85b0-d056e2e880d3",
   "metadata": {},
   "outputs": [
    {
     "name": "stdout",
     "output_type": "stream",
     "text": [
      "The error is:- division by zero\n"
     ]
    }
   ],
   "source": [
    "try:\n",
    "    print(10/0)\n",
    "except Exception as e:\n",
    "    print(\"The error is:-\", e)"
   ]
  },
  {
   "cell_type": "markdown",
   "id": "c6e05839-7a44-4b58-b510-88720342fee5",
   "metadata": {},
   "source": [
    "Answer 4) "
   ]
  },
  {
   "cell_type": "code",
   "execution_count": 3,
   "id": "1db85109-cd75-49ef-b374-5989d2f0bb5d",
   "metadata": {},
   "outputs": [
    {
     "name": "stdout",
     "output_type": "stream",
     "text": [
      "2.0\n",
      "This will execute afte the successfully exectution of try block\n",
      "5.0\n",
      "This will always execute itself\n"
     ]
    },
    {
     "name": "stdin",
     "output_type": "stream",
     "text": [
      "Enter age:-  25\n"
     ]
    },
    {
     "name": "stdout",
     "output_type": "stream",
     "text": [
      "You can vote\n"
     ]
    }
   ],
   "source": [
    "#a) try and else\n",
    "try:\n",
    "    print(10/5)\n",
    "except Exception as e:\n",
    "    print(\"The error is:-\", e)\n",
    "else:\n",
    "    print(\"This will execute afte the successfully exectution of try block\")\n",
    "    \n",
    "#b) finally\n",
    "\n",
    "try:\n",
    "    print(10/2)\n",
    "finally:\n",
    "    print(\"This will always execute itself\")\n",
    "    \n",
    "#c) raise\n",
    "\n",
    "class validate_age(Exception):\n",
    "    \n",
    "    def __init__(self, msg):\n",
    "        self.msg = msg\n",
    "\n",
    "def validateage(age):\n",
    "    if age < 18:\n",
    "        if age < 0:\n",
    "            raise validate_age(\"Age can't be negative\")\n",
    "        raise validate_age(\"Not eligible for voting\")\n",
    "    else:\n",
    "        print(\"You can vote\")\n",
    "        \n",
    "try:\n",
    "    age = int(input(\"Enter age:- \"))\n",
    "    validateage(age)\n",
    "except validate_age as e:\n",
    "    print(e)"
   ]
  },
  {
   "cell_type": "markdown",
   "id": "330baddf-d5cc-4a20-bd52-f4ff7f21191e",
   "metadata": {},
   "source": [
    "Answer 5) The exceptions which are out of scope of the Exception class\n",
    "are custom exceptions. User define its own exceptions and \n",
    "execute them."
   ]
  },
  {
   "cell_type": "code",
   "execution_count": 4,
   "id": "c2ca8d95-7766-4e4b-8c44-e697b5d16c78",
   "metadata": {},
   "outputs": [
    {
     "name": "stdin",
     "output_type": "stream",
     "text": [
      "Enter age:-  30\n"
     ]
    },
    {
     "name": "stdout",
     "output_type": "stream",
     "text": [
      "You can vote\n"
     ]
    }
   ],
   "source": [
    "class validate_age(Exception):\n",
    "    \n",
    "    def __init__(self, msg):\n",
    "        self.msg = msg\n",
    "\n",
    "def validateage(age):\n",
    "    if age < 18:\n",
    "        if age < 0:\n",
    "            raise validate_age(\"Age can't be negative\")\n",
    "        raise validate_age(\"Not eligible for voting\")\n",
    "    else:\n",
    "        print(\"You can vote\")\n",
    "        \n",
    "try:\n",
    "    age = int(input(\"Enter age:- \"))\n",
    "    validateage(age)\n",
    "except validate_age as e:\n",
    "    print(e)"
   ]
  },
  {
   "cell_type": "markdown",
   "id": "8b709cb7-197b-4f7b-8724-6f069fc93b11",
   "metadata": {},
   "source": [
    "Answer 6)"
   ]
  },
  {
   "cell_type": "code",
   "execution_count": 5,
   "id": "da2d4962-ceb0-463e-b35a-afa9c17245ec",
   "metadata": {},
   "outputs": [
    {
     "name": "stdin",
     "output_type": "stream",
     "text": [
      "Enter age:-  -10\n"
     ]
    },
    {
     "name": "stdout",
     "output_type": "stream",
     "text": [
      "Age can't be negative\n"
     ]
    }
   ],
   "source": [
    "class validate_age(Exception):\n",
    "    \n",
    "    def __init__(self, msg):\n",
    "        self.msg = msg\n",
    "\n",
    "def validateage(age):\n",
    "    if age < 18:\n",
    "        if age < 0:\n",
    "            raise validate_age(\"Age can't be negative\")\n",
    "        raise validate_age(\"Not eligible for voting\")\n",
    "    else:\n",
    "        print(\"You can vote\")\n",
    "        \n",
    "try:\n",
    "    age = int(input(\"Enter age:- \"))\n",
    "    validateage(age)\n",
    "except validate_age as e:\n",
    "    print(e)"
   ]
  }
 ],
 "metadata": {
  "kernelspec": {
   "display_name": "Python 3 (ipykernel)",
   "language": "python",
   "name": "python3"
  },
  "language_info": {
   "codemirror_mode": {
    "name": "ipython",
    "version": 3
   },
   "file_extension": ".py",
   "mimetype": "text/x-python",
   "name": "python",
   "nbconvert_exporter": "python",
   "pygments_lexer": "ipython3",
   "version": "3.10.8"
  }
 },
 "nbformat": 4,
 "nbformat_minor": 5
}
