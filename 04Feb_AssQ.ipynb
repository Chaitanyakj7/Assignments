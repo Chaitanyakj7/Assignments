{
 "cells": [
  {
   "cell_type": "markdown",
   "id": "4b0c55eb-c32f-4858-b43f-be9235d295ad",
   "metadata": {},
   "source": [
    "Q.1) Create a python program to sort the given list of tuples based on integer value using a lambda function.\n",
    "\n",
    "[('Sachin Tendulkar', 34357), ('Rinky Ponting', 27483), ('Jack Kallis', 25534), ('Virat Kohli', 24936)]"
   ]
  },
  {
   "cell_type": "code",
   "execution_count": 1,
   "id": "2daabb3d-56e5-4798-8fe3-0f8a35c9d572",
   "metadata": {},
   "outputs": [
    {
     "name": "stdout",
     "output_type": "stream",
     "text": [
      "[('Virat Kohli', 24936), ('Jack Kallis', 25534), ('Ricky Ponting', 27483), ('Sachin Tendulkar', 34357)]\n"
     ]
    }
   ],
   "source": [
    "lis1 = [('Sachin Tendulkar', 34357), ('Ricky Ponting', 27483), ('Jack Kallis', 25534), ('Virat Kohli', 24936)]\n",
    "\n",
    "sorted_lis1 = lambda lis1 : sorted(lis1, key=lambda x : x[1])\n",
    "print(sorted_lis1(lis1))"
   ]
  },
  {
   "cell_type": "markdown",
   "id": "564173c3-523a-4c1d-9f5f-17973a4e1412",
   "metadata": {},
   "source": [
    "Q.2) Write a python program to find the squares of all the numbers in the given list of integers using lambda\n",
    "and map functions.\n",
    "[1, 2, 3, 4, 5, 6, 7, 8, 9, 10]"
   ]
  },
  {
   "cell_type": "code",
   "execution_count": 2,
   "id": "b0a36c5d-fb63-42a9-8704-3b8ecbc5bf2b",
   "metadata": {},
   "outputs": [
    {
     "name": "stdout",
     "output_type": "stream",
     "text": [
      "[1, 4, 9, 16, 25, 36, 49, 64, 81, 100]\n"
     ]
    }
   ],
   "source": [
    "lis2 = [1, 2, 3, 4, 5 ,6 ,7, 8, 9, 10]\n",
    "\n",
    "sq = list(map(lambda lis2_ele : lis2_ele*lis2_ele, lis2))\n",
    "\n",
    "print(sq)"
   ]
  },
  {
   "cell_type": "markdown",
   "id": "85f45722-026b-4960-a0fa-fcf340d0d818",
   "metadata": {},
   "source": [
    "Q.3) Write a python program to convert the list of integers into a tuple of strings. Use map and lambda functions.\n",
    "[1, 2, 3, 4, 5, 6, 7, 8, 9, 10]"
   ]
  },
  {
   "cell_type": "code",
   "execution_count": 3,
   "id": "7b042bae-4a91-475a-829d-9b0ce0486a99",
   "metadata": {},
   "outputs": [
    {
     "name": "stdout",
     "output_type": "stream",
     "text": [
      "('1', '2', '3', '4', '5', '6', '7', '8', '9', '10')\n"
     ]
    }
   ],
   "source": [
    "li3 = [1, 2, 3, 4, 5 ,6 ,7, 8, 9, 10]\n",
    "\n",
    "tup = tuple(map(lambda li3_ele : str(li3_ele), li3))\n",
    "print(tup)"
   ]
  },
  {
   "cell_type": "markdown",
   "id": "ba68382e-ae54-401c-8793-eef2274b343c",
   "metadata": {},
   "source": [
    "Q.4) Write a python program using reduce function to compute the product of the list containing numbers from\n",
    "1 to 25."
   ]
  },
  {
   "cell_type": "code",
   "execution_count": 5,
   "id": "d2e294d6-4218-4309-9a9c-fd2836d5bd98",
   "metadata": {},
   "outputs": [
    {
     "name": "stdout",
     "output_type": "stream",
     "text": [
      "15511210043330985984000000\n"
     ]
    }
   ],
   "source": [
    "from functools import reduce\n",
    "li4 = [i for i in range(1, 26)]\n",
    "\n",
    "product = reduce(lambda x, y : x * y, li4)\n",
    "print(product)"
   ]
  },
  {
   "cell_type": "markdown",
   "id": "3b22ac04-4221-4a3a-b9c7-cdde41fcd2ad",
   "metadata": {},
   "source": [
    "Q.5) Write a python program to filter the numbers in a givem list that are divisible by 2 and 3 using the\n",
    "filter function.\n",
    "[2, 3, 6, 9, 27, 60, 90, 120, 55, 46]"
   ]
  },
  {
   "cell_type": "code",
   "execution_count": 6,
   "id": "394b34fc-b32b-4c4d-9fea-d37b9798a324",
   "metadata": {},
   "outputs": [
    {
     "name": "stdout",
     "output_type": "stream",
     "text": [
      "[6, 60, 90, 120]\n"
     ]
    }
   ],
   "source": [
    "li5 = [2, 3, 6, 9, 27, 60, 90, 120, 55, 46]\n",
    "\n",
    "def divisible(lis5_ele):\n",
    "    if lis5_ele%2 == 0 and lis5_ele%3 == 0:\n",
    "        return lis5_ele\n",
    "div = list(filter(divisible, li5))\n",
    "print(div)"
   ]
  },
  {
   "cell_type": "markdown",
   "id": "bb6a07fc-0f6f-44cb-b421-0f87e2ef446a",
   "metadata": {},
   "source": [
    "Q.6) Write a python program to find palindromes in the given list of strings using lambda and filter \n",
    "function.\n",
    "['python', 'php', 'aba', 'radar', 'leve']"
   ]
  },
  {
   "cell_type": "code",
   "execution_count": 7,
   "id": "d18e66aa-13b7-47b5-9c5b-d8a58ae8ceda",
   "metadata": {},
   "outputs": [
    {
     "name": "stdout",
     "output_type": "stream",
     "text": [
      "['php', 'aba', 'radar', 'level']\n"
     ]
    }
   ],
   "source": [
    "li6 = ['python', 'php', 'aba', 'radar', 'level']\n",
    "\n",
    "palin = list(filter(lambda x : x == \"\".join(reversed(x)), li6))\n",
    "print(palin)"
   ]
  },
  {
   "cell_type": "code",
   "execution_count": null,
   "id": "6e7507b6-2ebf-4447-bc3c-4fbea5e75d5f",
   "metadata": {},
   "outputs": [],
   "source": []
  }
 ],
 "metadata": {
  "kernelspec": {
   "display_name": "Python 3 (ipykernel)",
   "language": "python",
   "name": "python3"
  },
  "language_info": {
   "codemirror_mode": {
    "name": "ipython",
    "version": 3
   },
   "file_extension": ".py",
   "mimetype": "text/x-python",
   "name": "python",
   "nbconvert_exporter": "python",
   "pygments_lexer": "ipython3",
   "version": "3.10.8"
  }
 },
 "nbformat": 4,
 "nbformat_minor": 5
}
