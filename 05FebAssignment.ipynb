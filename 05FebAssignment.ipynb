{
 "cells": [
  {
   "cell_type": "markdown",
   "id": "3aeeccf1-1796-4f89-8ecd-7e458ee3e6ec",
   "metadata": {},
   "source": [
    "Q.1)Explain class and object with respect to object-oriented programming. Give a suitable example.\n",
    "\n",
    "Answer:- 1) Class is a blueprint of objects.\n",
    "         2) Class consists all properties and methods assosicated with an object\n",
    "         3) An object is called as instance of class."
   ]
  },
  {
   "cell_type": "code",
   "execution_count": 9,
   "id": "d6a99c9d-c5ef-43c3-ad35-ca8e17e78237",
   "metadata": {},
   "outputs": [
    {
     "name": "stdout",
     "output_type": "stream",
     "text": [
      "(124, 'Nivara', 12)\n",
      "Welcome Home\n",
      "\n"
     ]
    }
   ],
   "source": [
    "#define a class\n",
    "class house:\n",
    "    def __init__(self, house_no, house_name, house_members):\n",
    "        self.house_no = house_no\n",
    "        self.house_name = house_name\n",
    "        self.house_members = house_members\n",
    "    def details(self):\n",
    "        return self.house_no, self.house_name, self.house_members\n",
    "    def message(self):\n",
    "        print(\"Welcome Home\\n\")\n",
    "\n",
    "#define a object belonging to 'house' class\n",
    "house1 = house(123, \"Nisarg\", 10)\n",
    "house2 = house(124, \"Nivara\", 12)\n",
    "\n",
    "#access method in the class\n",
    "house1.house_no\n",
    "print(house2.details())\n",
    "house1.message()"
   ]
  },
  {
   "cell_type": "markdown",
   "id": "88413e0e-dfb4-491b-96c8-37f25d11c535",
   "metadata": {},
   "source": [
    "Q.2) Name the four pillars of OOPs.\n",
    "\n",
    "Answer:- Inheritance, Polymorphism, Encapsulation and Abstraction"
   ]
  },
  {
   "cell_type": "markdown",
   "id": "a4816c7b-9c3b-4190-9f17-73b3ba2947e8",
   "metadata": {},
   "source": [
    "Q.3) Explain why the __init__ function is used. Give a suitable example.\n",
    "\n",
    "Answer:- __init__function is used to take inputs from the user which will be assigned to the given object.\n",
    "        __init__ function basically stores the arguments which will be used in objects."
   ]
  },
  {
   "cell_type": "code",
   "execution_count": 10,
   "id": "5d13dfb4-3cd5-4b02-bbac-cbfe78a43e5c",
   "metadata": {},
   "outputs": [
    {
     "data": {
      "text/plain": [
       "('XYZ', 'AB 23 WE 1234', 4)"
      ]
     },
     "execution_count": 10,
     "metadata": {},
     "output_type": "execute_result"
    }
   ],
   "source": [
    "class bike:\n",
    "    def __init__(self, name, number, gears):\n",
    "        self.name = name\n",
    "        self.number = number\n",
    "        self.gears = gears\n",
    "    def bike_details(self):\n",
    "        return self.name, self.number, self.gears\n",
    "\n",
    "bike1 = bike(\"XYZ\", \"AB 23 WE 1234\", 4)\n",
    "bike1.bike_details()"
   ]
  },
  {
   "cell_type": "markdown",
   "id": "bed54fb3-1ad4-4946-8aa4-dffee65ae7cf",
   "metadata": {},
   "source": [
    "Q.4) Why self is used in OOPs?\n",
    "\n",
    "Answer:- 1) The self variable is used to represent the instance of the class which is often used in OOPs.\n",
    "         2) It works as a reference to the object.\n",
    "         3) Python uses the self parameter to refer to instance attributes and methods of the class."
   ]
  },
  {
   "cell_type": "markdown",
   "id": "44259d05-5ee8-4c2f-8571-30de9438a342",
   "metadata": {},
   "source": [
    "Q.5) What is inheritance? Give an example for each type of inheritance.\n",
    "\n",
    "Answer:- 1) Inheritance allows us to define a class that inherits all the methods and properties from \n",
    "          another class.\n",
    "         2) Parent class is the class being inherited from and also called as base class.\n",
    "         3) Child class is the class that inherits from another class and also called as derived class.\n",
    "         4) Types of inheritance:\n",
    "             1) Single inheritance:\n",
    "                  Single inheritance enables a derived class to inherit properties from a single parent \n",
    "                  class.\n",
    "             2) Multiple inheritance:\n",
    "                  When a class is derived from more tham one base class this type of inheritance is called\n",
    "                  as multiple inheritance.\n",
    "             3) Multilevel inheritance:\n",
    "                  In multilevel inheritance, features of the bse class and derived class are further \n",
    "                  inherited into the new derived class.\n",
    "             4) Hierarchical inheritance:\n",
    "                  When more than one derived class are created from a single base this type of inheritance\n",
    "                  is called as hierarchical inheritance.\n",
    "             5) Hybrid inheritance:\n",
    "                  Inheritance consisting of multiple types of inheritance is called hybrid inheritance.          "
   ]
  },
  {
   "cell_type": "code",
   "execution_count": 5,
   "id": "630a2091-d8fd-4b81-aff8-f55b41ab0ed2",
   "metadata": {},
   "outputs": [
    {
     "name": "stdout",
     "output_type": "stream",
     "text": [
      "Function of parent class\n",
      "Function of child class\n"
     ]
    }
   ],
   "source": [
    "# 1.Single Inheritance\n",
    "\n",
    "class parent_class:\n",
    "    def func1(self):\n",
    "        print(\"Function of parent class\")\n",
    "\n",
    "class child_class(parent_class):\n",
    "    def func2(self):\n",
    "        print(\"Function of child class\")\n",
    "\n",
    "obj1 = child_class()\n",
    "obj1.func1()\n",
    "obj1.func2()"
   ]
  },
  {
   "cell_type": "code",
   "execution_count": 30,
   "id": "d4cdfdbe-b088-4d34-8daa-7849cb552a95",
   "metadata": {},
   "outputs": [
    {
     "name": "stdout",
     "output_type": "stream",
     "text": [
      "Child name:- Soham \n",
      "Father name:- Sanjay \n",
      "Mother name:- Soham\n"
     ]
    }
   ],
   "source": [
    "# 2.Multiple Inheritance\n",
    "\n",
    "class parent_class1:\n",
    "    father_name = \"\"\n",
    "    def func(self):\n",
    "        print(\"Fahter's name:- \", father_name)\n",
    "\n",
    "class parent_class2:\n",
    "    mother_name = \"\"\n",
    "    def func1(self):\n",
    "        print(\"Mother's name:- \", mother_name)\n",
    "        \n",
    "class child_class(parent_class1, parent_class2):\n",
    "    child_name = \"\"\n",
    "    def func2(self):\n",
    "        print(\"Child name:-\", self.child_name,\"\\nFather name:-\", self.father_name, \"\\nMother name:-\",self.child_name)\n",
    "        \n",
    "obj1 = child_class()\n",
    "obj1.father_name = \"Sanjay\"\n",
    "obj1.moher_name = \"Sonali\"\n",
    "obj1.child_name  = \"Soham\"\n",
    "obj1.func2()"
   ]
  },
  {
   "cell_type": "code",
   "execution_count": 36,
   "id": "65cddb4b-28aa-4987-ac3b-7499048660ed",
   "metadata": {},
   "outputs": [
    {
     "name": "stdout",
     "output_type": "stream",
     "text": [
      "Child name:- Prasad \n",
      "Father's name:- Laxman \n",
      "Grand father's name:- Suresh\n"
     ]
    }
   ],
   "source": [
    "# 3.Multilevel Inheritance\n",
    "\n",
    "class parent1:\n",
    "    grand_father = \"\"\n",
    "    def funp1(self):\n",
    "        print(\"Name of grand father:- \\n\", self.grand_father)\n",
    "\n",
    "class parent2(parent1):\n",
    "    father_name = \"\"\n",
    "    def funp2(self):\n",
    "        print(\"Father's name:-\", self.father_name, \"\\nGrand father's name:-\", self.grand_father)\n",
    "\n",
    "class child(parent2):\n",
    "    child = \"\"\n",
    "    def func(self):\n",
    "        print(\"Child name:-\", self.child, \"\\nFather's name:-\", self.father_name, \"\\nGrand father's name:-\", self.grand_father)\n",
    "\n",
    "obj3 = child()\n",
    "obj3.grand_father = \"Suresh\"\n",
    "obj3.father_name = \"Laxman\"\n",
    "obj3.child = \"Prasad\"\n",
    "obj3.func()"
   ]
  },
  {
   "cell_type": "code",
   "execution_count": 42,
   "id": "2fc6106a-fd0b-44a3-a49f-fb98fc3cee4f",
   "metadata": {},
   "outputs": [
    {
     "name": "stdout",
     "output_type": "stream",
     "text": [
      "Function of parent class\n",
      "Function of parent class\n",
      "Function of child class 2\n",
      "Function of child class 1\n"
     ]
    }
   ],
   "source": [
    "# 4.Hierarchical Inheritance\n",
    "\n",
    "class parent1:\n",
    "    def funp1(self):\n",
    "        print(\"Function of parent class\")\n",
    "    \n",
    "class child1(parent1):\n",
    "    def func1(self):\n",
    "        print(\"Function of child class 1\")\n",
    "\n",
    "class child2(parent1):\n",
    "    def func2(self):\n",
    "        print(\"Function of child class 2\")\n",
    "\n",
    "    \n",
    "obj4 = child1()\n",
    "obj5 = child2()\n",
    "obj4.funp1()\n",
    "obj5.funp1()\n",
    "obj5.func2()\n",
    "obj4.func1()"
   ]
  },
  {
   "cell_type": "code",
   "execution_count": 43,
   "id": "1d243369-e102-47d6-b084-db314b8d5da4",
   "metadata": {},
   "outputs": [
    {
     "name": "stdout",
     "output_type": "stream",
     "text": [
      "Function from class4\n",
      "Function from class3\n",
      "Function from class2\n",
      "Function from class1\n"
     ]
    }
   ],
   "source": [
    "# 5.Hybrid Inheritance\n",
    "\n",
    "class class1:\n",
    "    def funct1(self):\n",
    "        print(\"Function from class1\")\n",
    "class class2(class1):\n",
    "    def funct2(self):\n",
    "        print(\"Function from class2\")\n",
    "class class3(class1):\n",
    "    def funct3(self):\n",
    "        print(\"Function from class3\")\n",
    "class class4(class2, class3):\n",
    "    def funct4(self):\n",
    "        print(\"Function from class4\")\n",
    "\n",
    "obj7 = class4()\n",
    "obj7.funct4()\n",
    "obj7.funct3()\n",
    "obj7.funct2()\n",
    "obj7.funct1()"
   ]
  },
  {
   "cell_type": "code",
   "execution_count": null,
   "id": "098eeb6a-1a09-46dc-b76c-7689e350697a",
   "metadata": {},
   "outputs": [],
   "source": []
  }
 ],
 "metadata": {
  "kernelspec": {
   "display_name": "Python 3 (ipykernel)",
   "language": "python",
   "name": "python3"
  },
  "language_info": {
   "codemirror_mode": {
    "name": "ipython",
    "version": 3
   },
   "file_extension": ".py",
   "mimetype": "text/x-python",
   "name": "python",
   "nbconvert_exporter": "python",
   "pygments_lexer": "ipython3",
   "version": "3.10.8"
  }
 },
 "nbformat": 4,
 "nbformat_minor": 5
}
