{
 "cells": [
  {
   "cell_type": "code",
   "execution_count": 1,
   "id": "74e367af",
   "metadata": {},
   "outputs": [],
   "source": [
    "from selenium import webdriver\n",
    "#from selenium.webdriver.common.by import By\n",
    "#from selenium.webdriver.support.ui import WebDriverWait\n",
    "#from selenium.webdriver.support import expected_conditions as EC\n",
    "from bs4 import BeautifulSoup as bs\n",
    "driver = webdriver.Chrome()\n",
    "\n",
    "driver.get(\"https://www.youtube.com/@PW-Foundation/videos\")"
   ]
  },
  {
   "cell_type": "code",
   "execution_count": 2,
   "id": "ee618aa7",
   "metadata": {},
   "outputs": [],
   "source": [
    "#WebDriverWait(driver, 10).until(EC.presence_of_all_elements_located((By.ID, \"dismissible\")))\n",
    "\n",
    "soup = bs(driver.page_source, \"html.parser\")"
   ]
  },
  {
   "cell_type": "code",
   "execution_count": 3,
   "id": "24797ecb",
   "metadata": {},
   "outputs": [
    {
     "name": "stdout",
     "output_type": "stream",
     "text": [
      "https://www.youtube.com/watch?v=nydzF9EvIWk\n",
      "https://www.youtube.com/watch?v=ZTQ0v2Tuyao\n",
      "https://www.youtube.com/watch?v=fzfqTEDMsDw\n",
      "https://www.youtube.com/watch?v=uQzozajCMWM\n",
      "https://www.youtube.com/watch?v=nUpyjnEXR6Q\n"
     ]
    }
   ],
   "source": [
    "video_details = soup.findAll(attrs = {\"id\":\"dismissible\", \"class\":\"style-scope ytd-rich-grid-media\"})\n",
    "\n",
    "video_urls = []\n",
    "\n",
    "for i in range(5):\n",
    "        video_urls.append(\"https://www.youtube.com\"+video_details[i].find(\"a\", attrs = {\"id\":\"thumbnail\", \"class\":\"yt-simple-endpoint inline-block style-scope ytd-thumbnail\"})[\"href\"])\n",
    "        \n",
    "for i in video_urls:\n",
    "    print(i)"
   ]
  },
  {
   "cell_type": "code",
   "execution_count": 4,
   "id": "a35d1567",
   "metadata": {},
   "outputs": [
    {
     "name": "stdout",
     "output_type": "stream",
     "text": [
      "How To Deal With Exam Stress and Anxiety? 😓 |  Must WATCH for Class-10th Students 🚨 by Physics Wallah Foundation 84,475 views 20 hours ago 10 minutes, 38 seconds\n",
      "\n",
      "Class 10th - Complete SST Map Work Revision in 1 Shot | Full Syllabus CBSE Board | 5 Marks पक्के 💯 by Physics Wallah Foundation 31,597 views 2 days ago 54 minutes\n",
      "\n",
      "Gap Days में TOPPER'S की तरह तैयारी करो 🔥 | Class 10th Board | Preparation Tips & Tricks by Physics Wallah Foundation 119,885 views 5 days ago 8 minutes, 30 seconds\n",
      "\n",
      "Class 10th - Complete PHYSICS Formula Sheet Revision in 1 Shot  || Full Syllabus Covered CBSE Board by Physics Wallah Foundation 75,459 views 5 days ago 38 minutes\n",
      "\n",
      "Don't Fail !! 🤯 Avoid These 5 Mistakes in Class 10th BOARD Exam | डूब जाओगे वरना ❌ by Physics Wallah Foundation 202,395 views 8 days ago 13 minutes, 36 seconds\n",
      "\n"
     ]
    }
   ],
   "source": [
    "video_titles = []\n",
    "\n",
    "for i in range(5):\n",
    "        video_titles.append(video_details[i].find(\"a\", attrs = {\"id\":\"video-title-link\", \"class\":\"yt-simple-endpoint focus-on-expand style-scope ytd-rich-grid-media\"})[\"aria-label\"])\n",
    "        \n",
    "for i in video_titles:\n",
    "    print(i)\n",
    "    print()"
   ]
  },
  {
   "cell_type": "code",
   "execution_count": 6,
   "id": "e9417b9f",
   "metadata": {},
   "outputs": [
    {
     "name": "stdout",
     "output_type": "stream",
     "text": [
      "None\n",
      "https://www.youtube.com/watch?v=uQzozajCMWM\n",
      "None\n",
      "https://www.youtube.com/watch?v=nUpyjnEXR6Q\n",
      "\n",
      "https://i.ytimg.com/vi/nydzF9EvIWk/hqdefault.jpg?sqp=-oaymwEcCNACELwBSFXyq4qpAw4IARUAAIhCGAFwAcABBg==&rs=AOn4CLCa7xFCAFNRurKsuE0_7EqLUZFT2g\n",
      "https://i.ytimg.com/vi/ZTQ0v2Tuyao/hqdefault.jpg?sqp=-oaymwEcCNACELwBSFXyq4qpAw4IARUAAIhCGAFwAcABBg==&rs=AOn4CLCeSuW9HY6Hi13M0CJAZc-RCeWBGA\n",
      "https://i.ytimg.com/vi/fzfqTEDMsDw/hqdefault.jpg?sqp=-oaymwEcCNACELwBSFXyq4qpAw4IARUAAIhCGAFwAcABBg==&rs=AOn4CLAE-93Cdwo5OCdVAPtvVG-zFFNIrg\n"
     ]
    }
   ],
   "source": [
    "video_thumbnail_urls = []\n",
    "\n",
    "for i in range(5):\n",
    "    try:\n",
    "        video_thumbnail_urls.append(video_details[i].find(\"img\", attrs = {\"class\":\"yt-core-image yt-core-image--fill-parent-height yt-core-image--fill-parent-width yt-core-image--content-mode-scale-aspect-fill yt-core-image--loaded\"})[\"src\"])\n",
    "    except Exception as e:\n",
    "        print(video_details[i].find(\"img\", attrs = {\"class\":\"yt-core-image yt-core-image--fill-parent-height yt-core-image--fill-parent-width yt-core-image--content-mode-scale-aspect-fill yt-core-image--loaded\"}))\n",
    "        print(\"https://www.youtube.com\"+video_details[i].find(\"a\", attrs = {\"id\":\"thumbnail\", \"class\":\"yt-simple-endpoint inline-block style-scope ytd-thumbnail\"})[\"href\"])\n",
    "print()\n",
    "for i in video_thumbnail_urls:\n",
    "    print(i)"
   ]
  },
  {
   "cell_type": "code",
   "execution_count": 5,
   "id": "e3bf9284",
   "metadata": {},
   "outputs": [
    {
     "name": "stdout",
     "output_type": "stream",
     "text": [
      "84K views 20 hours ago\n",
      "\n",
      "31K views 2 days ago\n",
      "\n",
      "119K views 5 days ago\n",
      "\n",
      "75K views 5 days ago\n",
      "\n",
      "202K views 8 days ago\n",
      "\n"
     ]
    }
   ],
   "source": [
    "posting_time_and_views = []\n",
    "\n",
    "for i in range(5):\n",
    "    posting_time_and_views.append(video_details[i].findAll(\"span\", attrs = {\"inline-metadata-item style-scope ytd-video-meta-block\"}))\n",
    "    \n",
    "for i, j in posting_time_and_views:\n",
    "    print(i.text, j.text)\n",
    "    print()"
   ]
  },
  {
   "cell_type": "code",
   "execution_count": 15,
   "id": "5d9b9a74",
   "metadata": {},
   "outputs": [],
   "source": [
    "import csv\n",
    "\n",
    "video_posting_time = [i.text for i, j in posting_time_and_views]\n",
    "video_views = [j.text for i, j in posting_time_and_views]\n",
    "\n",
    "fields = ['VIDEO_URLS', 'VIDEO_TITLES', 'VIDEO_THUMBNAIL_URLS', 'VIDEO_POSTING_TIME', 'VIDEO_VIEWS']\n",
    "\n",
    "rows = [video_urls, video_titles, video_thumbnail_urls, video_posting_time, video_views]\n",
    "\n",
    "with open(\"22_feb_assQ.csv\", \"w\", encoding=\"utf-8\") as csvfile:\n",
    "    \n",
    "    csvwriter = csv.writer(csvfile)\n",
    "    csvwriter.writerow(fields)\n",
    "    csvwriter.writerows(rows) \n",
    "   "
   ]
  },
  {
   "cell_type": "code",
   "execution_count": null,
   "id": "b8b1fdad",
   "metadata": {},
   "outputs": [],
   "source": []
  }
 ],
 "metadata": {
  "kernelspec": {
   "display_name": "Python 3 (ipykernel)",
   "language": "python",
   "name": "python3"
  },
  "language_info": {
   "codemirror_mode": {
    "name": "ipython",
    "version": 3
   },
   "file_extension": ".py",
   "mimetype": "text/x-python",
   "name": "python",
   "nbconvert_exporter": "python",
   "pygments_lexer": "ipython3",
   "version": "3.11.5"
  }
 },
 "nbformat": 4,
 "nbformat_minor": 5
}
